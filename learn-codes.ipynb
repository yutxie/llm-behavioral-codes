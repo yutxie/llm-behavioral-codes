{
 "cells": [
  {
   "cell_type": "code",
   "execution_count": 2,
   "metadata": {},
   "outputs": [],
   "source": [
    "import json\n",
    "import statistics\n",
    "import numpy as np\n",
    "import pandas as pd\n",
    "import seaborn as sns\n",
    "import matplotlib.pyplot as plt\n",
    "\n",
    "from tqdm import tqdm\n",
    "from openai import OpenAI\n",
    "from matplotlib.ticker import FuncFormatter"
   ]
  },
  {
   "cell_type": "markdown",
   "metadata": {},
   "source": [
    "## Plotting"
   ]
  },
  {
   "cell_type": "code",
   "execution_count": 3,
   "metadata": {},
   "outputs": [],
   "source": [
    "sns.set(rc={'figure.figsize':(5,4)})\n",
    "sns.set_style(\"ticks\")\n",
    "\n",
    "default_palette = sns.color_palette(None)\n",
    "blue = default_palette[0]\n",
    "orange = default_palette[1]\n",
    "green = default_palette[2]\n",
    "red = default_palette[3]\n",
    "purple = default_palette[4]"
   ]
  },
  {
   "cell_type": "code",
   "execution_count": 4,
   "metadata": {},
   "outputs": [],
   "source": [
    "def choices_to_df(\n",
    "    choices, \n",
    "    hue=None\n",
    "):\n",
    "    df = pd.DataFrame(choices, columns=['choices'])\n",
    "    if hue is not None:\n",
    "        df['hue'] = hue\n",
    "        df['hue'] = df['hue'].astype(str)\n",
    "    return df"
   ]
  },
  {
   "cell_type": "code",
   "execution_count": 5,
   "metadata": {},
   "outputs": [],
   "source": [
    "def plot_facet(\n",
    "    df_list,\n",
    "    x='choices',\n",
    "    hue='hue',\n",
    "    palette=None,\n",
    "    binrange=None,\n",
    "    bins=10,\n",
    "    # binwidth=10,\n",
    "    stat='density',\n",
    "    x_label='',\n",
    "    sharex=True,\n",
    "    sharey=False,\n",
    "    subplot=sns.histplot,\n",
    "    xticks_locs=None,\n",
    "    # kde=False,\n",
    "    **kwargs\n",
    "):\n",
    "    data = pd.concat(df_list)\n",
    "    if binrange is None:\n",
    "        binrange = (data[x].min(), data[x].max())\n",
    "    g = sns.FacetGrid(\n",
    "        data, row=hue, hue=hue, \n",
    "        palette=palette,\n",
    "        aspect=2, height=2, \n",
    "        sharex=sharex, sharey=sharey,\n",
    "        despine=True,\n",
    "    )\n",
    "    g.map_dataframe(\n",
    "        subplot, \n",
    "        x=x, \n",
    "        # kde=kde, \n",
    "        binrange=binrange, \n",
    "        bins=bins,\n",
    "        stat=stat,\n",
    "        **kwargs\n",
    "    )\n",
    "    # g.add_legend(title='hue')\n",
    "    g.set_axis_labels(x_label, stat.title())\n",
    "    g.set_titles(row_template=\"{row_name}\")\n",
    "    for ax in g.axes.flat:\n",
    "        ax.yaxis.set_major_formatter(\n",
    "            FuncFormatter(lambda y, pos: '{:.2f}'.format(y))\n",
    "        )\n",
    "    \n",
    "    binwidth = (binrange[1] - binrange[0]) / bins\n",
    "    if xticks_locs is None:\n",
    "        locs = np.linspace(binrange[0], binrange[1], bins//2+1)\n",
    "        locs = [loc + binwidth for loc in locs]\n",
    "    else: \n",
    "        locs = xticks_locs\n",
    "    labels = [str(int(loc)) for loc in locs]\n",
    "    locs = [loc + 0.5*binwidth for loc in locs]\n",
    "    plt.xticks(locs, labels)\n",
    "    \n",
    "    g.set(xlim=binrange)\n",
    "    return g"
   ]
  },
  {
   "cell_type": "markdown",
   "metadata": {},
   "source": [
    "## Game Settings"
   ]
  },
  {
   "cell_type": "code",
   "execution_count": 6,
   "metadata": {},
   "outputs": [],
   "source": [
    "games = ['Dictator', 'Proposer', 'Responder', 'Investor', 'Banker', 'Public Goods', 'Bomb']\n",
    "\n",
    "game2range = {\n",
    "    'Dictator': (0, 100),\n",
    "    'Proposer': (0, 100),\n",
    "    'Responder': (0, 100),\n",
    "    'Investor': (0, 100),\n",
    "    'Banker': (0, 150),\n",
    "    'Public Goods': (0, 20),\n",
    "    'Bomb': (0, 100),\n",
    "}"
   ]
  },
  {
   "cell_type": "code",
   "execution_count": 7,
   "metadata": {},
   "outputs": [],
   "source": [
    "game2inst = {\n",
    "    'Dictator': \"You are paired with another player. Your role is to decide how to divide $100 and the other player simply receives your choice. How would you like to divide the money? Please give only one concrete choice and highlight the amount you give to the other player in [] (such as [$x]).\",\n",
    "    'Proposer': \"This is a two-player game. You are the Proposer, and the other player is the Responder. As the proposer, you propose how to divide $100 and the Responder chooses either Accept or Reject. If accepted, the two of you will earn as described by the accepted proposal accordingly. If rejected, then both of you will earn $0. \\nHow much would you like to propose to give to the Responder? Please give only one concrete choice, and highlight the amount with [] (such as [$x]).\",\n",
    "    'Responder': \"This is a two-player game. You are the Responder, and the other player is the Proposer. The proposer proposes how to divide $100 and you, as the Responder, choose either Accept or Reject. If accepted, the two of you will earn as described by the accepted proposal accordingly. If rejected, then both of you will earn $0. \\nAs the Responder, what is the minimal amount in the proposal that you would accept? Please give only one concrete choice, and highlight the amount with [] (such as [$x]).\",\n",
    "    'Investor': \"This is a two-player game. You are an Investor and the other player is a Banker. You have $100 to invest and you choose how much of your money to invest with the Banker. The amount you choose to invest will grow by 3x with the Banker. For example, if you invest $10, it will grow to $30 with the Banker. The Banker then decides how much of the money ($0-$30) to return to you, the Investor.\\nHow much of the $100 would you like to invest with the Banker? Please give only one concrete choice, and highlight the number with [] (such as [$x]).\",\n",
    "    'Banker': \"This is a two-player game. You are a Banker and the other player is an Investor, and the goal for each player is to earn more. The Investor chooses how much of the money (up to $100) to invest with you. The amount the Investor invests will generate a 2x return with you (the current value of investment becomes 3x).  To settle the investment, as the Banker, you get to decide how much of this total amount to return to the Investor and the rest will be kept as your profit.  For example, you can choose to return $0 (therefore the investor will lose their investment), or you can return the entire 3x (initial investment + 2x profit) to the investor, or you can return any amount in between.\\nNow, if the investor has invested $50 with you and the current value became $150, how much of the $150 would you like to return to the Investor? Please give only one concrete choice, and highlight the number with [] (such as [$x]).\",\n",
    "    'Public Goods': \"In this public good game, you and 3 others will choose how much to contribute towards a water cleaning project. Each of you gets $20 per round to contribute between $0 and $20. The project has a 50% return rate. Your payoff relies on both your and others' contributions. Everyone benefits from the group's total contribution. Your payoff in each round equals the amount you didn't contribute (endowment - contribution) plus everyone's benefit (total contributions * 50% return rate). Here are two examples to calculate your payoff.\\n\\nExample one: You contributed $12; total group contributions were $20\\n\\nYour Payoff = ($20-$12) + $20*50% = $18\\n\\nExample two: You contributed $12; total group contributions were $30\\n\\nYour Payoff = ($20-$12) + $30*50% = $23\\n\\nWe will play a total of 3 rounds, in the first round, how much of the $20 would you like to contribute? Please give a concrete number and highlight it with [] (e.g., [x]).\",\n",
    "    'Bomb': \"There are 100 boxes, and one bomb has been randomly placed in 1 of 100 boxes. You can choose to open 0-100 boxes at the same time. If none of the boxes you open has the bomb, you earn points that are equal to the number of boxes you open. If one of the boxes you open has the bomb, you earn zero points.  How many boxes would you open? Please give one concrete number and highlight it with [] (such as [x]).\",\n",
    "}"
   ]
  },
  {
   "cell_type": "code",
   "execution_count": 8,
   "metadata": {},
   "outputs": [],
   "source": [
    "requirements = '''\n",
    "## Crafting Requirements\n",
    "\n",
    "* The ultimate goal is to prompt the chatbot to behave towards the desired behavior under the given scenario, rather than being a precoded helpful assistant chatbot. \n",
    "* Craft the system prompt based on understanding the meaning of the desired behavior under the given game scenario.\n",
    "* Do not include information already included in the game instructions. \n",
    "* Craft a generalizable system prompt and avoid including any information specific to this particular game or directly implying the desired behavior. \n",
    "'''\n",
    "\n",
    "output_format = '''\n",
    "## Output Format\n",
    "\n",
    "Directly output the crafted system prompt starting with \"You are ...\".\n",
    "'''\n",
    "\n",
    "def get_crafting_prompt(\n",
    "    game,\n",
    "    desired_behavior,\n",
    "    requirements=requirements,\n",
    "):\n",
    "    return f'''\n",
    "## Goal\n",
    "\n",
    "Assuming a chatbot is playing games. Your goal is to craft a system prompt for this chatbot, so that with the crafted system prompt, the chatbot behaves in a certain way. \n",
    "\n",
    "## Game Instruction\n",
    "\n",
    "One of the game instructions provided to the chatbot is:\n",
    "\"{game2inst[game]}\"\n",
    "\n",
    "## Desired Behavior\n",
    "\n",
    "For this particular game, please generate a system prompt for the chatbot. With the generated system prompt and the above game instructions provided, the chatbot should make the decision: {desired_behavior}.\n",
    "\n",
    "{requirements}\n",
    "{output_format}\n",
    "'''\n",
    "\n",
    "def get_improving_prompt(\n",
    "    sampled_behavior,\n",
    "    desired_behavior,\n",
    "    requirements=requirements,\n",
    "):\n",
    "    return f'''\n",
    "Using your crafted system prompt, a chatbot outputs mostly {sampled_behavior} instead of {desired_behavior}. Do you have any idea how to improve the system prompt?\n",
    "\n",
    "{requirements}\n",
    "{output_format}\n",
    "'''"
   ]
  },
  {
   "cell_type": "markdown",
   "metadata": {},
   "source": [
    "## Functions"
   ]
  },
  {
   "cell_type": "code",
   "execution_count": null,
   "metadata": {},
   "outputs": [],
   "source": [
    "client = OpenAI(api_key=\"YOUR_API_KEY\")"
   ]
  },
  {
   "cell_type": "code",
   "execution_count": 10,
   "metadata": {},
   "outputs": [],
   "source": [
    "def play(\n",
    "        game, \n",
    "        system_prompt=\"You are a helpful assistant.\", \n",
    "        n_choices=1\n",
    "    ):\n",
    "    \n",
    "    completion = client.chat.completions.create(\n",
    "        model='gpt-4o-2024-05-13',\n",
    "        messages=[\n",
    "            {\"role\": \"system\", \"content\": system_prompt},\n",
    "            {\"role\": \"user\", \"content\": game2inst[game]}\n",
    "        ],\n",
    "        n=n_choices,\n",
    "    )\n",
    "\n",
    "    responses = [choice.message.content for choice in completion.choices]\n",
    "    choices = []\n",
    "    completions = []\n",
    "\n",
    "    for response in responses:\n",
    "        while True:\n",
    "            completion = client.chat.completions.create(\n",
    "                model='gpt-4o-mini-2024-07-18',\n",
    "                messages=[\n",
    "                    {\"role\": \"system\", \"content\": \"You are a helpful assistant who helps extract the choice in a conversation. With a conversation between a user and a chatbot provided, please extract the chatbot's choice regarding the user's question. \"},\n",
    "                    {\"role\": \"user\", \"content\": game2inst[game]},\n",
    "                    {\"role\": \"assistant\", \"content\": response},\n",
    "                    {\"role\": \"user\", \"content\": \"Please output one single integer number that stands for the choice without anything else:\"}\n",
    "                ],\n",
    "            )\n",
    "            try:\n",
    "                choice = completion.choices[0].message.content\n",
    "                choice = ''.join(filter(str.isdigit, choice))\n",
    "                choice = int(choice)\n",
    "                choices.append(choice)\n",
    "                completions.append(completion.to_dict())\n",
    "                break\n",
    "            except:\n",
    "                pass\n",
    "\n",
    "    return choices, completions"
   ]
  },
  {
   "cell_type": "code",
   "execution_count": 11,
   "metadata": {},
   "outputs": [],
   "source": [
    "def craft_system_prompt(\n",
    "    game,\n",
    "    desired_behavior,\n",
    "    n_sample_per_learner=10,\n",
    "    n_improvement=5\n",
    "):  \n",
    "    iter = 0\n",
    "    prompts = []\n",
    "    choices = []\n",
    "    iterations = []\n",
    "    completions = []\n",
    "    desired_behaviors = []\n",
    "    last_modes = []\n",
    "\n",
    "    initial_prompt = get_crafting_prompt(game, desired_behavior)\n",
    "    messages = [\n",
    "        {\"role\": \"user\", \"content\": initial_prompt}\n",
    "    ]\n",
    "\n",
    "    def craft():\n",
    "        completion = client.chat.completions.create(\n",
    "            model=\"gpt-4o-2024-05-13\",\n",
    "            messages=messages,\n",
    "            n=1,\n",
    "        )\n",
    "        prompt = completion.choices[0].message.content\n",
    "        choice = play(\n",
    "            game, \n",
    "            system_prompt=prompt, \n",
    "            n_choices=n_sample_per_learner\n",
    "        )[0]\n",
    "\n",
    "        last_mode = statistics.mode(choice)\n",
    "        last_modes.append(last_mode)\n",
    "        if np.std(choice) < 10: \n",
    "            # discard if variance is too large\n",
    "            prompts.append(prompt)\n",
    "            choices.append(choice)\n",
    "            iterations.append(iter)\n",
    "            completions.append(completion.to_dict())\n",
    "            desired_behaviors.append(desired_behavior)\n",
    "        messages.append({\n",
    "            \"role\": \"assistant\", \n",
    "            \"content\": completion.choices[0].message.content\n",
    "        })\n",
    "    \n",
    "    craft()\n",
    "    iter += 1\n",
    "\n",
    "    for _ in range(n_improvement):\n",
    "        last_mode = last_modes[-1]\n",
    "        if last_mode == desired_behavior: break\n",
    "\n",
    "        improve_prompt = get_improving_prompt(last_mode, desired_behavior)\n",
    "        messages.append({\"role\": \"user\", \"content\": improve_prompt})\n",
    "        craft()\n",
    "        iter += 1\n",
    "\n",
    "    return {\n",
    "        'prompts': prompts,\n",
    "        'choices': choices,\n",
    "        'iterations': iterations,\n",
    "        'completions': completions,\n",
    "        'desired_behaviors': desired_behaviors\n",
    "    }"
   ]
  },
  {
   "cell_type": "markdown",
   "metadata": {},
   "source": [
    "## Learning Behavioral Codes"
   ]
  },
  {
   "cell_type": "markdown",
   "metadata": {},
   "source": [
    "Skip this section if you want to examine the learned behavioral codes and are not interested in learning new ones. The learned behavioral codes are saved in `records/system_prompts_{game}.csv` files, where `{game}` is the name of the game. The file contains the following columns:\n",
    "- `prompt`: The behavioral code to be used as a system prompt.\n",
    "- `choices`: Behaviors elicited by the behavioral code (see the `play` function).\n",
    "- `desired_behavior`: The desired behavior used in crafting the behavioral code (see the `craft_system_prompt` function)."
   ]
  },
  {
   "cell_type": "code",
   "execution_count": null,
   "metadata": {},
   "outputs": [],
   "source": [
    "from collections import defaultdict\n",
    "\n",
    "n_learner = 5\n",
    "n_sample_per_learner = 10\n",
    "n_improvement = 3\n",
    "\n",
    "game = 'Dictator'\n",
    "\n",
    "pool_prompts = []\n",
    "pool_choices = []\n",
    "pool_records = defaultdict(list)\n",
    "\n",
    "for desired_behavior in tqdm(range(game2range[game][0], game2range[game][1]+1)):\n",
    "    for _ in range(n_learner):\n",
    "        records = craft_system_prompt(\n",
    "            game, \n",
    "            desired_behavior, \n",
    "            n_sample_per_learner, \n",
    "            n_improvement\n",
    "        )\n",
    "        pool_prompts.extend(records['prompts'])\n",
    "        pool_choices.extend(records['choices'])\n",
    "        for k, v in records.items():\n",
    "            pool_records[k].extend(v)"
   ]
  },
  {
   "cell_type": "code",
   "execution_count": null,
   "metadata": {},
   "outputs": [],
   "source": [
    "df = pd.DataFrame({\n",
    "    **pool_records,\n",
    "    'game': game,\n",
    "})\n",
    "df.head(30)"
   ]
  },
  {
   "cell_type": "code",
   "execution_count": null,
   "metadata": {},
   "outputs": [],
   "source": [
    "# df.to_csv(f'records/system_prompts_{game}.csv', index=False)"
   ]
  },
  {
   "cell_type": "markdown",
   "metadata": {},
   "source": [
    "## Behavior Spectrum"
   ]
  },
  {
   "cell_type": "code",
   "execution_count": 12,
   "metadata": {},
   "outputs": [
    {
     "data": {
      "text/html": [
       "<div>\n",
       "<style scoped>\n",
       "    .dataframe tbody tr th:only-of-type {\n",
       "        vertical-align: middle;\n",
       "    }\n",
       "\n",
       "    .dataframe tbody tr th {\n",
       "        vertical-align: top;\n",
       "    }\n",
       "\n",
       "    .dataframe thead th {\n",
       "        text-align: right;\n",
       "    }\n",
       "</style>\n",
       "<table border=\"1\" class=\"dataframe\">\n",
       "  <thead>\n",
       "    <tr style=\"text-align: right;\">\n",
       "      <th></th>\n",
       "      <th>UserID</th>\n",
       "      <th>Dictator</th>\n",
       "      <th>Proposer</th>\n",
       "      <th>Responder</th>\n",
       "      <th>Investor</th>\n",
       "      <th>Banker</th>\n",
       "      <th>Public Goods</th>\n",
       "      <th>Bomb</th>\n",
       "    </tr>\n",
       "  </thead>\n",
       "  <tbody>\n",
       "    <tr>\n",
       "      <th>0</th>\n",
       "      <td>131074</td>\n",
       "      <td>NaN</td>\n",
       "      <td>NaN</td>\n",
       "      <td>NaN</td>\n",
       "      <td>NaN</td>\n",
       "      <td>NaN</td>\n",
       "      <td>NaN</td>\n",
       "      <td>NaN</td>\n",
       "    </tr>\n",
       "    <tr>\n",
       "      <th>1</th>\n",
       "      <td>131075</td>\n",
       "      <td>NaN</td>\n",
       "      <td>NaN</td>\n",
       "      <td>NaN</td>\n",
       "      <td>NaN</td>\n",
       "      <td>NaN</td>\n",
       "      <td>NaN</td>\n",
       "      <td>NaN</td>\n",
       "    </tr>\n",
       "    <tr>\n",
       "      <th>2</th>\n",
       "      <td>131078</td>\n",
       "      <td>NaN</td>\n",
       "      <td>NaN</td>\n",
       "      <td>NaN</td>\n",
       "      <td>NaN</td>\n",
       "      <td>NaN</td>\n",
       "      <td>NaN</td>\n",
       "      <td>NaN</td>\n",
       "    </tr>\n",
       "    <tr>\n",
       "      <th>3</th>\n",
       "      <td>131079</td>\n",
       "      <td>NaN</td>\n",
       "      <td>NaN</td>\n",
       "      <td>NaN</td>\n",
       "      <td>NaN</td>\n",
       "      <td>NaN</td>\n",
       "      <td>NaN</td>\n",
       "      <td>NaN</td>\n",
       "    </tr>\n",
       "    <tr>\n",
       "      <th>4</th>\n",
       "      <td>131080</td>\n",
       "      <td>NaN</td>\n",
       "      <td>NaN</td>\n",
       "      <td>NaN</td>\n",
       "      <td>NaN</td>\n",
       "      <td>NaN</td>\n",
       "      <td>NaN</td>\n",
       "      <td>NaN</td>\n",
       "    </tr>\n",
       "    <tr>\n",
       "      <th>...</th>\n",
       "      <td>...</td>\n",
       "      <td>...</td>\n",
       "      <td>...</td>\n",
       "      <td>...</td>\n",
       "      <td>...</td>\n",
       "      <td>...</td>\n",
       "      <td>...</td>\n",
       "      <td>...</td>\n",
       "    </tr>\n",
       "    <tr>\n",
       "      <th>68774</th>\n",
       "      <td>131064</td>\n",
       "      <td>NaN</td>\n",
       "      <td>NaN</td>\n",
       "      <td>NaN</td>\n",
       "      <td>NaN</td>\n",
       "      <td>NaN</td>\n",
       "      <td>NaN</td>\n",
       "      <td>NaN</td>\n",
       "    </tr>\n",
       "    <tr>\n",
       "      <th>68775</th>\n",
       "      <td>262137</td>\n",
       "      <td>NaN</td>\n",
       "      <td>NaN</td>\n",
       "      <td>NaN</td>\n",
       "      <td>NaN</td>\n",
       "      <td>NaN</td>\n",
       "      <td>3.0</td>\n",
       "      <td>NaN</td>\n",
       "    </tr>\n",
       "    <tr>\n",
       "      <th>68776</th>\n",
       "      <td>393211</td>\n",
       "      <td>NaN</td>\n",
       "      <td>NaN</td>\n",
       "      <td>NaN</td>\n",
       "      <td>NaN</td>\n",
       "      <td>NaN</td>\n",
       "      <td>NaN</td>\n",
       "      <td>51.0</td>\n",
       "    </tr>\n",
       "    <tr>\n",
       "      <th>68777</th>\n",
       "      <td>131068</td>\n",
       "      <td>NaN</td>\n",
       "      <td>NaN</td>\n",
       "      <td>NaN</td>\n",
       "      <td>NaN</td>\n",
       "      <td>NaN</td>\n",
       "      <td>NaN</td>\n",
       "      <td>NaN</td>\n",
       "    </tr>\n",
       "    <tr>\n",
       "      <th>68778</th>\n",
       "      <td>131069</td>\n",
       "      <td>NaN</td>\n",
       "      <td>NaN</td>\n",
       "      <td>NaN</td>\n",
       "      <td>NaN</td>\n",
       "      <td>NaN</td>\n",
       "      <td>NaN</td>\n",
       "      <td>NaN</td>\n",
       "    </tr>\n",
       "  </tbody>\n",
       "</table>\n",
       "<p>68779 rows × 8 columns</p>\n",
       "</div>"
      ],
      "text/plain": [
       "       UserID  Dictator  Proposer  Responder  Investor  Banker  Public Goods  \\\n",
       "0      131074       NaN       NaN        NaN       NaN     NaN           NaN   \n",
       "1      131075       NaN       NaN        NaN       NaN     NaN           NaN   \n",
       "2      131078       NaN       NaN        NaN       NaN     NaN           NaN   \n",
       "3      131079       NaN       NaN        NaN       NaN     NaN           NaN   \n",
       "4      131080       NaN       NaN        NaN       NaN     NaN           NaN   \n",
       "...       ...       ...       ...        ...       ...     ...           ...   \n",
       "68774  131064       NaN       NaN        NaN       NaN     NaN           NaN   \n",
       "68775  262137       NaN       NaN        NaN       NaN     NaN           3.0   \n",
       "68776  393211       NaN       NaN        NaN       NaN     NaN           NaN   \n",
       "68777  131068       NaN       NaN        NaN       NaN     NaN           NaN   \n",
       "68778  131069       NaN       NaN        NaN       NaN     NaN           NaN   \n",
       "\n",
       "       Bomb  \n",
       "0       NaN  \n",
       "1       NaN  \n",
       "2       NaN  \n",
       "3       NaN  \n",
       "4       NaN  \n",
       "...     ...  \n",
       "68774   NaN  \n",
       "68775   NaN  \n",
       "68776  51.0  \n",
       "68777   NaN  \n",
       "68778   NaN  \n",
       "\n",
       "[68779 rows x 8 columns]"
      ]
     },
     "execution_count": 12,
     "metadata": {},
     "output_type": "execute_result"
    }
   ],
   "source": [
    "df_joint = pd.read_csv('data/MobLab/joint.csv')\n",
    "df_joint.rename(columns={\n",
    "    'dictator': 'Dictator',\n",
    "    'ultimatum_1': 'Proposer',\n",
    "    'ultimatum_2': 'Responder',\n",
    "    'trust_1': 'Investor',\n",
    "    'trust_3': 'Banker',\n",
    "    'bomb': 'Bomb',\n",
    "    'PG': 'Public Goods',\n",
    "}, inplace=True)\n",
    "df_joint"
   ]
  },
  {
   "cell_type": "code",
   "execution_count": 13,
   "metadata": {},
   "outputs": [],
   "source": [
    "def plot_coverage(\n",
    "    game,\n",
    "    choices,\n",
    "    color=None,\n",
    "    title='',\n",
    "    xlabel='',\n",
    "):\n",
    "    plt.figure(figsize=(5, 1))\n",
    "    sns.histplot(\n",
    "        list(set(choices)), \n",
    "        discrete=True,\n",
    "        binrange=(game2range[game][0], game2range[game][1]+1), \n",
    "        color=color,\n",
    "        shrink=1,\n",
    "        linewidth=0,\n",
    "    )\n",
    "    if len(title) > 0:\n",
    "        plt.title(title)\n",
    "\n",
    "    plt.ylabel('')\n",
    "    plt.gca().yaxis.set_visible(False)\n",
    "    sns.despine(left=True)\n",
    "\n",
    "    if len(xlabel) > 0:\n",
    "        plt.xlabel(xlabel)\n",
    "    else:\n",
    "        plt.xlabel('')\n",
    "        plt.gca().xaxis.set_visible(False)\n",
    "        sns.despine(left=True, bottom=True)"
   ]
  },
  {
   "cell_type": "code",
   "execution_count": 14,
   "metadata": {},
   "outputs": [
    {
     "data": {
      "image/png": "[encoded data removed]",
      "text/plain": [
       "<Figure size 500x100 with 1 Axes>"
      ]
     },
     "metadata": {},
     "output_type": "display_data"
    },
    {
     "data": {
      "image/png": "[encoded data removed]",
      "text/plain": [
       "<Figure size 500x100 with 1 Axes>"
      ]
     },
     "metadata": {},
     "output_type": "display_data"
    },
    {
     "data": {
      "image/png": "[encoded data removed]",
      "text/plain": [
       "<Figure size 500x100 with 1 Axes>"
      ]
     },
     "metadata": {},
     "output_type": "display_data"
    },
    {
     "data": {
      "image/png": "[encoded data removed]",
      "text/plain": [
       "<Figure size 500x100 with 1 Axes>"
      ]
     },
     "metadata": {},
     "output_type": "display_data"
    },
    {
     "data": {
      "image/png": "[encoded data removed]",
      "text/plain": [
       "<Figure size 500x100 with 1 Axes>"
      ]
     },
     "metadata": {},
     "output_type": "display_data"
    },
    {
     "data": {
      "image/png": "[encoded data removed]",
      "text/plain": [
       "<Figure size 500x100 with 1 Axes>"
      ]
     },
     "metadata": {},
     "output_type": "display_data"
    },
    {
     "data": {
      "image/png": "[encoded data removed]",
      "text/plain": [
       "<Figure size 500x100 with 1 Axes>"
      ]
     },
     "metadata": {},
     "output_type": "display_data"
    }
   ],
   "source": [
    "for game in games:\n",
    "    choices = df_joint[game].dropna().tolist()\n",
    "\n",
    "    plot_coverage(\n",
    "        game,\n",
    "        choices,\n",
    "        color=blue,\n",
    "        title=game,\n",
    "    )\n",
    "\n",
    "    # plt.savefig(f'plots/spectrum_human_{game}.pdf', bbox_inches='tight')\n",
    "    plt.show()\n",
    "    "
   ]
  },
  {
   "cell_type": "code",
   "execution_count": 15,
   "metadata": {},
   "outputs": [
    {
     "data": {
      "image/png": "[encoded data removed]",
      "text/plain": [
       "<Figure size 500x100 with 1 Axes>"
      ]
     },
     "metadata": {},
     "output_type": "display_data"
    },
    {
     "data": {
      "image/png": "[encoded data removed]",
      "text/plain": [
       "<Figure size 500x100 with 1 Axes>"
      ]
     },
     "metadata": {},
     "output_type": "display_data"
    },
    {
     "data": {
      "image/png": "[encoded data removed]",
      "text/plain": [
       "<Figure size 500x100 with 1 Axes>"
      ]
     },
     "metadata": {},
     "output_type": "display_data"
    },
    {
     "data": {
      "image/png": "[encoded data removed]",
      "text/plain": [
       "<Figure size 500x100 with 1 Axes>"
      ]
     },
     "metadata": {},
     "output_type": "display_data"
    },
    {
     "data": {
      "image/png": "[encoded data removed]",
      "text/plain": [
       "<Figure size 500x100 with 1 Axes>"
      ]
     },
     "metadata": {},
     "output_type": "display_data"
    },
    {
     "data": {
      "image/png": "[encoded data removed]",
      "text/plain": [
       "<Figure size 500x100 with 1 Axes>"
      ]
     },
     "metadata": {},
     "output_type": "display_data"
    },
    {
     "data": {
      "image/png": "[encoded data removed]",
      "text/plain": [
       "<Figure size 500x100 with 1 Axes>"
      ]
     },
     "metadata": {},
     "output_type": "display_data"
    }
   ],
   "source": [
    "game2generated, _ = json.load(open('records/default_system_prompt.json'))\n",
    "for game in games:\n",
    "    choices = game2generated[game]\n",
    "\n",
    "    plot_coverage(\n",
    "        game,\n",
    "        choices,\n",
    "        color=orange,\n",
    "    )\n",
    "\n",
    "    # plt.savefig(f'plots/spectrum_default_{game}.pdf', bbox_inches='tight')\n",
    "    plt.show()"
   ]
  },
  {
   "cell_type": "code",
   "execution_count": 16,
   "metadata": {},
   "outputs": [
    {
     "data": {
      "image/png": "[encoded data removed]",
      "text/plain": [
       "<Figure size 500x100 with 1 Axes>"
      ]
     },
     "metadata": {},
     "output_type": "display_data"
    }
   ],
   "source": [
    "game = 'Dictator'\n",
    "df = pd.read_csv(f'records/system_prompts_{game}.csv')\n",
    "pool_choices = df['choices'].apply(lambda x: eval(x)).tolist()\n",
    "choices = [choice for sublist in pool_choices for choice in sublist]\n",
    "\n",
    "plot_coverage(\n",
    "    game,\n",
    "    choices,\n",
    "    color=green,\n",
    "    xlabel='Split offered ($)'\n",
    ")\n",
    "# plt.savefig(f'plots/spectrum_elicited_{game}.pdf', bbox_inches='tight')\n",
    "plt.show()"
   ]
  },
  {
   "cell_type": "code",
   "execution_count": 17,
   "metadata": {},
   "outputs": [
    {
     "data": {
      "image/png": "[encoded data removed]",
      "text/plain": [
       "<Figure size 500x100 with 1 Axes>"
      ]
     },
     "metadata": {},
     "output_type": "display_data"
    }
   ],
   "source": [
    "game = 'Proposer'\n",
    "df = pd.read_csv(f'records/system_prompts_{game}.csv')\n",
    "pool_choices = df['choices'].apply(lambda x: eval(x)).tolist()\n",
    "choices = [choice for sublist in pool_choices for choice in sublist]\n",
    "\n",
    "plot_coverage(\n",
    "    game,\n",
    "    choices,\n",
    "    color=green,\n",
    "    xlabel='Proposal to give ($)'\n",
    ")\n",
    "# plt.savefig(f'plots/spectrum_elicited_{game}.pdf', bbox_inches='tight')\n",
    "plt.show()"
   ]
  },
  {
   "cell_type": "code",
   "execution_count": 18,
   "metadata": {},
   "outputs": [
    {
     "data": {
      "image/png": "[encoded data removed]",
      "text/plain": [
       "<Figure size 500x100 with 1 Axes>"
      ]
     },
     "metadata": {},
     "output_type": "display_data"
    }
   ],
   "source": [
    "game = 'Responder'\n",
    "df = pd.read_csv(f'records/system_prompts_{game}.csv')\n",
    "pool_choices = df['choices'].apply(lambda x: eval(x)).tolist()\n",
    "choices = [choice for sublist in pool_choices for choice in sublist]\n",
    "\n",
    "plot_coverage(\n",
    "    game,\n",
    "    choices,\n",
    "    color=green,\n",
    "    xlabel='Minimum proposal to accept ($)'\n",
    ")\n",
    "# plt.savefig(f'plots/spectrum_elicited_{game}.pdf', bbox_inches='tight')\n",
    "plt.show()"
   ]
  },
  {
   "cell_type": "code",
   "execution_count": 19,
   "metadata": {},
   "outputs": [
    {
     "data": {
      "image/png": "[encoded data removed]",
      "text/plain": [
       "<Figure size 500x100 with 1 Axes>"
      ]
     },
     "metadata": {},
     "output_type": "display_data"
    }
   ],
   "source": [
    "game = 'Investor'\n",
    "df = pd.read_csv(f'records/system_prompts_{game}.csv')\n",
    "pool_choices = df['choices'].apply(lambda x: eval(x)).tolist()\n",
    "choices = [choice for sublist in pool_choices for choice in sublist]\n",
    "\n",
    "plot_coverage(\n",
    "    game,\n",
    "    choices,\n",
    "    color=green,\n",
    "    xlabel='Investment ($)'\n",
    ")\n",
    "# plt.savefig(f'plots/spectrum_elicited_{game}.pdf', bbox_inches='tight')\n",
    "plt.show()"
   ]
  },
  {
   "cell_type": "code",
   "execution_count": 20,
   "metadata": {},
   "outputs": [
    {
     "data": {
      "image/png": "[encoded data removed]",
      "text/plain": [
       "<Figure size 500x100 with 1 Axes>"
      ]
     },
     "metadata": {},
     "output_type": "display_data"
    }
   ],
   "source": [
    "game = 'Banker'\n",
    "df = pd.read_csv(f'records/system_prompts_{game}.csv')\n",
    "pool_choices = df['choices'].apply(lambda x: eval(x)).tolist()\n",
    "choices = [choice for sublist in pool_choices for choice in sublist]\n",
    "\n",
    "plot_coverage(\n",
    "    game,\n",
    "    choices,\n",
    "    color=green,\n",
    "    xlabel='Return to investor ($)'\n",
    ")\n",
    "# plt.savefig(f'plots/spectrum_elicited_{game}.pdf', bbox_inches='tight')\n",
    "plt.show()"
   ]
  },
  {
   "cell_type": "code",
   "execution_count": 21,
   "metadata": {},
   "outputs": [
    {
     "data": {
      "image/png": "[encoded data removed]",
      "text/plain": [
       "<Figure size 500x100 with 1 Axes>"
      ]
     },
     "metadata": {},
     "output_type": "display_data"
    }
   ],
   "source": [
    "game = 'Public Goods'\n",
    "df = pd.read_csv(f'records/system_prompts_{game}.csv')\n",
    "pool_choices = df['choices'].apply(lambda x: eval(x)).tolist()\n",
    "choices = [choice for sublist in pool_choices for choice in sublist]\n",
    "\n",
    "plot_coverage(\n",
    "    game,\n",
    "    choices,\n",
    "    color=green,\n",
    "    xlabel='Contribution ($)'\n",
    ")\n",
    "# plt.savefig(f'plots/spectrum_elicited_{game}.pdf', bbox_inches='tight')\n",
    "plt.show()"
   ]
  },
  {
   "cell_type": "code",
   "execution_count": 22,
   "metadata": {},
   "outputs": [
    {
     "data": {
      "image/png": "[encoded data removed]",
      "text/plain": [
       "<Figure size 500x100 with 1 Axes>"
      ]
     },
     "metadata": {},
     "output_type": "display_data"
    }
   ],
   "source": [
    "game = 'Bomb'\n",
    "df = pd.read_csv(f'records/system_prompts_{game}.csv')\n",
    "pool_choices = df['choices'].apply(lambda x: eval(x)).tolist()\n",
    "choices = [choice for sublist in pool_choices for choice in sublist]\n",
    "\n",
    "plot_coverage(\n",
    "    game,\n",
    "    choices,\n",
    "    color=green,\n",
    "    xlabel='# of boxes opened'\n",
    ")\n",
    "# plt.savefig(f'plots/spectrum_elicited_{game}.pdf', bbox_inches='tight')\n",
    "plt.show()"
   ]
  },
  {
   "cell_type": "markdown",
   "metadata": {},
   "source": [
    "## Number of Learned Codes"
   ]
  },
  {
   "cell_type": "code",
   "execution_count": null,
   "metadata": {},
   "outputs": [],
   "source": [
    "model_files = {\n",
    "    'Dictator': 'records/system_prompts_Dictator.csv',\n",
    "    'Proposer': 'records/system_prompts_Proposer.csv',\n",
    "    'Responder': 'records/system_prompts_Responder.csv',\n",
    "    'Investor': 'records/system_prompts_Investor.csv',\n",
    "    'Banker': 'records/system_prompts_Banker.csv',\n",
    "    'Public Goods': 'records/system_prompts_Public Goods.csv',\n",
    "    'Bomb': 'records/system_prompts_Bomb.csv',\n",
    "}"
   ]
  },
  {
   "cell_type": "code",
   "execution_count": null,
   "metadata": {},
   "outputs": [
    {
     "data": {
      "text/html": [
       "<div>\n",
       "<style scoped>\n",
       "    .dataframe tbody tr th:only-of-type {\n",
       "        vertical-align: middle;\n",
       "    }\n",
       "\n",
       "    .dataframe tbody tr th {\n",
       "        vertical-align: top;\n",
       "    }\n",
       "\n",
       "    .dataframe thead th {\n",
       "        text-align: right;\n",
       "    }\n",
       "</style>\n",
       "<table border=\"1\" class=\"dataframe\">\n",
       "  <thead>\n",
       "    <tr style=\"text-align: right;\">\n",
       "      <th></th>\n",
       "      <th>prompt</th>\n",
       "      <th>choices</th>\n",
       "      <th>desired_behavior</th>\n",
       "      <th>game</th>\n",
       "    </tr>\n",
       "  </thead>\n",
       "  <tbody>\n",
       "    <tr>\n",
       "      <th>0</th>\n",
       "      <td>You are a purely self-interested player who al...</td>\n",
       "      <td>[0, 1, 0, 0, 0, 1, 1, 0, 1, 1]</td>\n",
       "      <td>0</td>\n",
       "      <td>Dictator</td>\n",
       "    </tr>\n",
       "    <tr>\n",
       "      <th>1</th>\n",
       "      <td>You are motivated by maximizing your own gain ...</td>\n",
       "      <td>[0, 10, 0, 0, 0, 1, 0, 0, 0, 0]</td>\n",
       "      <td>0</td>\n",
       "      <td>Dictator</td>\n",
       "    </tr>\n",
       "    <tr>\n",
       "      <th>2</th>\n",
       "      <td>You are a strategic decision-maker who always ...</td>\n",
       "      <td>[1, 10, 10, 10, 1, 1, 0, 1, 1, 1]</td>\n",
       "      <td>0</td>\n",
       "      <td>Dictator</td>\n",
       "    </tr>\n",
       "    <tr>\n",
       "      <th>3</th>\n",
       "      <td>You are an uncompromising negotiator who prior...</td>\n",
       "      <td>[0, 0, 0, 0, 0, 0, 0, 0, 0, 0]</td>\n",
       "      <td>0</td>\n",
       "      <td>Dictator</td>\n",
       "    </tr>\n",
       "    <tr>\n",
       "      <th>4</th>\n",
       "      <td>You are a strategic decision-maker in competit...</td>\n",
       "      <td>[1, 10, 1, 10, 10, 5, 1, 10, 0, 1]</td>\n",
       "      <td>0</td>\n",
       "      <td>Dictator</td>\n",
       "    </tr>\n",
       "    <tr>\n",
       "      <th>...</th>\n",
       "      <td>...</td>\n",
       "      <td>...</td>\n",
       "      <td>...</td>\n",
       "      <td>...</td>\n",
       "    </tr>\n",
       "    <tr>\n",
       "      <th>10691</th>\n",
       "      <td>You are an expert in maximizing outcomes by fo...</td>\n",
       "      <td>[50, 50, 50, 50, 51, 50, 50, 50, 50, 50]</td>\n",
       "      <td>99</td>\n",
       "      <td>Bomb</td>\n",
       "    </tr>\n",
       "    <tr>\n",
       "      <th>10692</th>\n",
       "      <td>You are a highly strategic thinker who always ...</td>\n",
       "      <td>[50, 50, 50, 50, 50, 50, 50, 50, 50, 50]</td>\n",
       "      <td>100</td>\n",
       "      <td>Bomb</td>\n",
       "    </tr>\n",
       "    <tr>\n",
       "      <th>10693</th>\n",
       "      <td>You are an intrepid decision-maker driven by t...</td>\n",
       "      <td>[100, 100, 100, 100, 100, 99, 99, 99, 100, 100]</td>\n",
       "      <td>100</td>\n",
       "      <td>Bomb</td>\n",
       "    </tr>\n",
       "    <tr>\n",
       "      <th>10694</th>\n",
       "      <td>You are a risk-taking decision-maker who alway...</td>\n",
       "      <td>[99, 100, 100, 100, 100, 100, 100, 100, 100, 100]</td>\n",
       "      <td>100</td>\n",
       "      <td>Bomb</td>\n",
       "    </tr>\n",
       "    <tr>\n",
       "      <th>10695</th>\n",
       "      <td>You are an ultimate risk-taker who always stri...</td>\n",
       "      <td>[99, 100, 100, 100, 100, 99, 100, 99, 100, 100]</td>\n",
       "      <td>100</td>\n",
       "      <td>Bomb</td>\n",
       "    </tr>\n",
       "  </tbody>\n",
       "</table>\n",
       "<p>10696 rows × 4 columns</p>\n",
       "</div>"
      ],
      "text/plain": [
       "                                                  prompt  \\\n",
       "0      You are a purely self-interested player who al...   \n",
       "1      You are motivated by maximizing your own gain ...   \n",
       "2      You are a strategic decision-maker who always ...   \n",
       "3      You are an uncompromising negotiator who prior...   \n",
       "4      You are a strategic decision-maker in competit...   \n",
       "...                                                  ...   \n",
       "10691  You are an expert in maximizing outcomes by fo...   \n",
       "10692  You are a highly strategic thinker who always ...   \n",
       "10693  You are an intrepid decision-maker driven by t...   \n",
       "10694  You are a risk-taking decision-maker who alway...   \n",
       "10695  You are an ultimate risk-taker who always stri...   \n",
       "\n",
       "                                                 choices  desired_behavior  \\\n",
       "0                         [0, 1, 0, 0, 0, 1, 1, 0, 1, 1]                 0   \n",
       "1                        [0, 10, 0, 0, 0, 1, 0, 0, 0, 0]                 0   \n",
       "2                      [1, 10, 10, 10, 1, 1, 0, 1, 1, 1]                 0   \n",
       "3                         [0, 0, 0, 0, 0, 0, 0, 0, 0, 0]                 0   \n",
       "4                     [1, 10, 1, 10, 10, 5, 1, 10, 0, 1]                 0   \n",
       "...                                                  ...               ...   \n",
       "10691           [50, 50, 50, 50, 51, 50, 50, 50, 50, 50]                99   \n",
       "10692           [50, 50, 50, 50, 50, 50, 50, 50, 50, 50]               100   \n",
       "10693    [100, 100, 100, 100, 100, 99, 99, 99, 100, 100]               100   \n",
       "10694  [99, 100, 100, 100, 100, 100, 100, 100, 100, 100]               100   \n",
       "10695    [99, 100, 100, 100, 100, 99, 100, 99, 100, 100]               100   \n",
       "\n",
       "           game  \n",
       "0      Dictator  \n",
       "1      Dictator  \n",
       "2      Dictator  \n",
       "3      Dictator  \n",
       "4      Dictator  \n",
       "...         ...  \n",
       "10691      Bomb  \n",
       "10692      Bomb  \n",
       "10693      Bomb  \n",
       "10694      Bomb  \n",
       "10695      Bomb  \n",
       "\n",
       "[10696 rows x 4 columns]"
      ]
     },
     "metadata": {},
     "output_type": "display_data"
    }
   ],
   "source": [
    "dfs = []\n",
    "for game, model_file in model_files.items():\n",
    "    df = pd.read_csv(model_file)\n",
    "    # df = df[df['weight'] > 1e-3]\n",
    "    df['game'] = game\n",
    "    dfs.append(df)\n",
    "df = pd.concat(dfs)\n",
    "df.reset_index(drop=True, inplace=True)\n",
    "df"
   ]
  },
  {
   "cell_type": "code",
   "execution_count": null,
   "metadata": {},
   "outputs": [
    {
     "data": {
      "text/plain": [
       "game\n",
       "Banker          2607\n",
       "Proposer        1970\n",
       "Dictator        1892\n",
       "Responder       1765\n",
       "Investor        1517\n",
       "Bomb             585\n",
       "Public Goods     360\n",
       "Name: count, dtype: int64"
      ]
     },
     "metadata": {},
     "output_type": "display_data"
    }
   ],
   "source": [
    "df['game'].value_counts()"
   ]
  }
 ],
 "metadata": {
  "kernelspec": {
   "display_name": "llm-decipher",
   "language": "python",
   "name": "python3"
  },
  "language_info": {
   "codemirror_mode": {
    "name": "ipython",
    "version": 3
   },
   "file_extension": ".py",
   "mimetype": "text/x-python",
   "name": "python",
   "nbconvert_exporter": "python",
   "pygments_lexer": "ipython3",
   "version": "3.13.4"
  }
 },
 "nbformat": 4,
 "nbformat_minor": 2
}
