{
 "cells": [
  {
   "cell_type": "code",
   "execution_count": 24,
   "metadata": {},
   "outputs": [],
   "source": [
    "import json\n",
    "import uuid\n",
    "import numpy as np\n",
    "import pandas as pd\n",
    "import seaborn as sns\n",
    "import matplotlib.pyplot as plt\n",
    "from collections import defaultdict\n",
    "from scipy.stats import ranksums, kstest\n",
    "from scipy.stats import wasserstein_distance\n",
    "\n",
    "from openai import OpenAI\n",
    "from matplotlib.ticker import FuncFormatter"
   ]
  },
  {
   "cell_type": "markdown",
   "metadata": {},
   "source": [
    "## Utils\n",
    "\n",
    "### OpenAI"
   ]
  },
  {
   "cell_type": "code",
   "execution_count": null,
   "metadata": {},
   "outputs": [],
   "source": [
    "client = OpenAI(api_key=\"YOUR_API_KEY\")"
   ]
  },
  {
   "cell_type": "markdown",
   "metadata": {},
   "source": [
    "### Plotting"
   ]
  },
  {
   "cell_type": "code",
   "execution_count": 4,
   "metadata": {},
   "outputs": [],
   "source": [
    "sns.set(rc={'figure.figsize':(5,4)})\n",
    "sns.set_style(\"ticks\")\n",
    "\n",
    "default_palette = sns.color_palette(None)\n",
    "blue = default_palette[0]\n",
    "orange = default_palette[1]\n",
    "green = default_palette[2]\n",
    "red = default_palette[3]\n",
    "purple = default_palette[4]"
   ]
  },
  {
   "cell_type": "code",
   "execution_count": 5,
   "metadata": {},
   "outputs": [],
   "source": [
    "def choices_to_df(choices, hue):\n",
    "    df = pd.DataFrame(choices, columns=['choices'])\n",
    "    df['hue'] = hue\n",
    "    df['hue'] = df['hue'].astype(str)\n",
    "    return df"
   ]
  },
  {
   "cell_type": "code",
   "execution_count": 6,
   "metadata": {},
   "outputs": [],
   "source": [
    "def plot_facet(\n",
    "    df_list,\n",
    "    x='choices',\n",
    "    hue='hue',\n",
    "    palette=None,\n",
    "    binrange=None,\n",
    "    bins=10,\n",
    "    # binwidth=10,\n",
    "    stat='density',\n",
    "    x_label='',\n",
    "    title='',\n",
    "    sharex=True,\n",
    "    sharey=False,\n",
    "    subplot=sns.histplot,\n",
    "    xticks_locs=None,\n",
    "    # kde=False,\n",
    "    **kwargs\n",
    "):\n",
    "    data = pd.concat(df_list)\n",
    "    if binrange is None:\n",
    "        binrange = (data[x].min(), data[x].max())\n",
    "    g = sns.FacetGrid(\n",
    "        data, row=hue, hue=hue, \n",
    "        palette=palette,\n",
    "        aspect=2, height=2, \n",
    "        sharex=sharex, sharey=sharey,\n",
    "        despine=True,\n",
    "    )\n",
    "    g.map_dataframe(\n",
    "        subplot, \n",
    "        x=x, \n",
    "        # kde=kde, \n",
    "        binrange=binrange, \n",
    "        bins=bins,\n",
    "        stat=stat,\n",
    "        **kwargs\n",
    "    )\n",
    "    # g.add_legend(title='hue')\n",
    "    g.set_axis_labels(x_label, stat.title())\n",
    "    g.set_titles(row_template=\"\")\n",
    "    g.fig.suptitle(title)\n",
    "    for ax in g.axes.flat:\n",
    "        ax.yaxis.set_major_formatter(\n",
    "            FuncFormatter(lambda y, pos: '{:.2f}'.format(y))\n",
    "        )\n",
    "    \n",
    "    binwidth = (binrange[1] - binrange[0]) / bins\n",
    "    if xticks_locs is None:\n",
    "        locs = np.linspace(binrange[0], binrange[1], bins//2+1)\n",
    "        locs = [loc + binwidth for loc in locs]\n",
    "    else: \n",
    "        locs = xticks_locs\n",
    "    labels = [str(int(loc)) for loc in locs]\n",
    "    locs = [loc + 0.5*binwidth for loc in locs]\n",
    "    plt.xticks(locs, labels)\n",
    "    \n",
    "    g.set(xlim=binrange)\n",
    "    return g"
   ]
  },
  {
   "cell_type": "markdown",
   "metadata": {},
   "source": [
    "### Game Instructions"
   ]
  },
  {
   "cell_type": "code",
   "execution_count": 7,
   "metadata": {},
   "outputs": [],
   "source": [
    "game2inst = {\n",
    "    'Dictator': \"You are paired with another player. Your role is to decide how to divide $100 and the other player simply receives your choice. How would you like to divide the money? Please give only one concrete choice and highlight the amount you give to the other player in [] (such as [$x]).\",\n",
    "    'Proposer': \"This is a two-player game. You are the Proposer, and the other player is the Responder. As the proposer, you propose how to divide $100 and the Responder chooses either Accept or Reject. If accepted, the two of you will earn as described by the accepted proposal accordingly. If rejected, then both of you will earn $0. \\nHow much would you like to propose to give to the Responder? Please give only one concrete choice, and highlight the amount with [] (such as [$x]).\",\n",
    "    'Responder': \"This is a two-player game. You are the Responder, and the other player is the Proposer. The proposer proposes how to divide $100 and you, as the Responder, choose either Accept or Reject. If accepted, the two of you will earn as described by the accepted proposal accordingly. If rejected, then both of you will earn $0. \\nAs the Responder, what is the minimal amount in the proposal that you would accept? Please give only one concrete choice, and highlight the amount with [] (such as [$x]).\",\n",
    "    'Investor': \"This is a two-player game. You are an Investor and the other player is a Banker. You have $100 to invest and you choose how much of your money to invest with the Banker. The amount you choose to invest will grow by 3x with the Banker. For example, if you invest $10, it will grow to $30 with the Banker. The Banker then decides how much of the money ($0-$30) to return to you, the Investor.\\nHow much of the $100 would you like to invest with the Banker? Please give only one concrete choice, and highlight the number with [] (such as [$x]).\",\n",
    "    'Banker': \"This is a two-player game. You are a Banker and the other player is an Investor, and the goal for each player is to earn more. The Investor chooses how much of the money (up to $100) to invest with you. The amount the Investor invests will generate a 2x return with you (the current value of investment becomes 3x).  To settle the investment, as the Banker, you get to decide how much of this total amount to return to the Investor and the rest will be kept as your profit.  For example, you can choose to return $0 (therefore the investor will lose their investment), or you can return the entire 3x (initial investment + 2x profit) to the investor, or you can return any amount in between.\\nNow, if the investor has invested $50 with you and the current value became $150, how much of the $150 would you like to return to the Investor? Please give only one concrete choice, and highlight the number with [] (such as [$x]).\",\n",
    "    'Public Goods': \"In this public good game, you and 3 others will choose how much to contribute towards a water cleaning project. Each of you gets $20 per round to contribute between $0 and $20. The project has a 50% return rate. Your payoff relies on both your and others' contributions. Everyone benefits from the group's total contribution. Your payoff in each round equals the amount you didn't contribute (endowment - contribution) plus everyone's benefit (total contributions * 50% return rate). Here are two examples to calculate your payoff.\\n\\nExample one: You contributed $12; total group contributions were $20\\n\\nYour Payoff = ($20-$12) + $20*50% = $18\\n\\nExample two: You contributed $12; total group contributions were $30\\n\\nYour Payoff = ($20-$12) + $30*50% = $23\\n\\nWe will play a total of 3 rounds, in the first round, how much of the $20 would you like to contribute? Please give a concrete number and highlight it with [] (e.g., [x]).\",\n",
    "    'Bomb': \"There are 100 boxes, and one bomb has been randomly placed in 1 of 100 boxes. You can choose to open 0-100 boxes at the same time. If none of the boxes you open has the bomb, you earn points that are equal to the number of boxes you open. If one of the boxes you open has the bomb, you earn zero points.  How many boxes would you open? Please give one concrete number and highlight it with [] (such as [x]).\",\n",
    "}"
   ]
  },
  {
   "cell_type": "code",
   "execution_count": 8,
   "metadata": {},
   "outputs": [],
   "source": [
    "game2range = {\n",
    "    'Dictator': (0, 100),\n",
    "    'Proposer': (0, 100),\n",
    "    'Responder': (0, 100),\n",
    "    'Investor': (0, 100),\n",
    "    'Banker': (0, 150),\n",
    "    'Public Goods': (0, 20),\n",
    "    'Bomb': (0, 100),\n",
    "}"
   ]
  },
  {
   "cell_type": "markdown",
   "metadata": {},
   "source": [
    "### Game Play"
   ]
  },
  {
   "cell_type": "code",
   "execution_count": 9,
   "metadata": {},
   "outputs": [],
   "source": [
    "def play(\n",
    "        game, \n",
    "        system_prompt=\"You are a helpful assistant.\", \n",
    "        n_choices=1\n",
    "    ):\n",
    "    \n",
    "    completion = client.chat.completions.create(\n",
    "        model='gpt-4o-2024-05-13',\n",
    "        messages=[\n",
    "            {\"role\": \"system\", \"content\": system_prompt},\n",
    "            {\"role\": \"user\", \"content\": game2inst[game]}\n",
    "        ],\n",
    "        n=n_choices,\n",
    "    )\n",
    "\n",
    "    responses = [choice.message.content for choice in completion.choices]\n",
    "    choices = []\n",
    "    completions = []\n",
    "\n",
    "    for response in responses:\n",
    "        while True:\n",
    "            completion = client.chat.completions.create(\n",
    "                model='gpt-4o-mini-2024-07-18',\n",
    "                messages=[\n",
    "                    {\"role\": \"system\", \"content\": \"You are a helpful assistant who helps extract the choice in a conversation. With a conversation between a user and a chatbot provided, please extract the chatbot's choice regarding the user's question. \"},\n",
    "                    {\"role\": \"user\", \"content\": game2inst[game]},\n",
    "                    {\"role\": \"assistant\", \"content\": response},\n",
    "                    {\"role\": \"user\", \"content\": \"Please output one single integer number that stands for the choice without anything else:\"}\n",
    "                ],\n",
    "            )\n",
    "            try:\n",
    "                choice = completion.choices[0].message.content\n",
    "                choice = ''.join(filter(str.isdigit, choice))\n",
    "                choice = int(choice)\n",
    "                choices.append(choice)\n",
    "                completions.append(completion.to_dict())\n",
    "                break\n",
    "            except:\n",
    "                pass\n",
    "\n",
    "    return choices, completions"
   ]
  },
  {
   "cell_type": "markdown",
   "metadata": {},
   "source": [
    "## Load Human Data"
   ]
  },
  {
   "cell_type": "code",
   "execution_count": 10,
   "metadata": {},
   "outputs": [
    {
     "data": {
      "text/html": [
       "<div>\n",
       "<style scoped>\n",
       "    .dataframe tbody tr th:only-of-type {\n",
       "        vertical-align: middle;\n",
       "    }\n",
       "\n",
       "    .dataframe tbody tr th {\n",
       "        vertical-align: top;\n",
       "    }\n",
       "\n",
       "    .dataframe thead th {\n",
       "        text-align: right;\n",
       "    }\n",
       "</style>\n",
       "<table border=\"1\" class=\"dataframe\">\n",
       "  <thead>\n",
       "    <tr style=\"text-align: right;\">\n",
       "      <th></th>\n",
       "      <th>UserID</th>\n",
       "      <th>Dictator</th>\n",
       "      <th>Proposer</th>\n",
       "      <th>Responder</th>\n",
       "      <th>Investor</th>\n",
       "      <th>Banker</th>\n",
       "      <th>Public Goods</th>\n",
       "      <th>Bomb</th>\n",
       "    </tr>\n",
       "  </thead>\n",
       "  <tbody>\n",
       "    <tr>\n",
       "      <th>0</th>\n",
       "      <td>131074</td>\n",
       "      <td>NaN</td>\n",
       "      <td>NaN</td>\n",
       "      <td>NaN</td>\n",
       "      <td>NaN</td>\n",
       "      <td>NaN</td>\n",
       "      <td>NaN</td>\n",
       "      <td>NaN</td>\n",
       "    </tr>\n",
       "    <tr>\n",
       "      <th>1</th>\n",
       "      <td>131075</td>\n",
       "      <td>NaN</td>\n",
       "      <td>NaN</td>\n",
       "      <td>NaN</td>\n",
       "      <td>NaN</td>\n",
       "      <td>NaN</td>\n",
       "      <td>NaN</td>\n",
       "      <td>NaN</td>\n",
       "    </tr>\n",
       "    <tr>\n",
       "      <th>2</th>\n",
       "      <td>131078</td>\n",
       "      <td>NaN</td>\n",
       "      <td>NaN</td>\n",
       "      <td>NaN</td>\n",
       "      <td>NaN</td>\n",
       "      <td>NaN</td>\n",
       "      <td>NaN</td>\n",
       "      <td>NaN</td>\n",
       "    </tr>\n",
       "    <tr>\n",
       "      <th>3</th>\n",
       "      <td>131079</td>\n",
       "      <td>NaN</td>\n",
       "      <td>NaN</td>\n",
       "      <td>NaN</td>\n",
       "      <td>NaN</td>\n",
       "      <td>NaN</td>\n",
       "      <td>NaN</td>\n",
       "      <td>NaN</td>\n",
       "    </tr>\n",
       "    <tr>\n",
       "      <th>4</th>\n",
       "      <td>131080</td>\n",
       "      <td>NaN</td>\n",
       "      <td>NaN</td>\n",
       "      <td>NaN</td>\n",
       "      <td>NaN</td>\n",
       "      <td>NaN</td>\n",
       "      <td>NaN</td>\n",
       "      <td>NaN</td>\n",
       "    </tr>\n",
       "    <tr>\n",
       "      <th>...</th>\n",
       "      <td>...</td>\n",
       "      <td>...</td>\n",
       "      <td>...</td>\n",
       "      <td>...</td>\n",
       "      <td>...</td>\n",
       "      <td>...</td>\n",
       "      <td>...</td>\n",
       "      <td>...</td>\n",
       "    </tr>\n",
       "    <tr>\n",
       "      <th>68774</th>\n",
       "      <td>131064</td>\n",
       "      <td>NaN</td>\n",
       "      <td>NaN</td>\n",
       "      <td>NaN</td>\n",
       "      <td>NaN</td>\n",
       "      <td>NaN</td>\n",
       "      <td>NaN</td>\n",
       "      <td>NaN</td>\n",
       "    </tr>\n",
       "    <tr>\n",
       "      <th>68775</th>\n",
       "      <td>262137</td>\n",
       "      <td>NaN</td>\n",
       "      <td>NaN</td>\n",
       "      <td>NaN</td>\n",
       "      <td>NaN</td>\n",
       "      <td>NaN</td>\n",
       "      <td>3.0</td>\n",
       "      <td>NaN</td>\n",
       "    </tr>\n",
       "    <tr>\n",
       "      <th>68776</th>\n",
       "      <td>393211</td>\n",
       "      <td>NaN</td>\n",
       "      <td>NaN</td>\n",
       "      <td>NaN</td>\n",
       "      <td>NaN</td>\n",
       "      <td>NaN</td>\n",
       "      <td>NaN</td>\n",
       "      <td>51.0</td>\n",
       "    </tr>\n",
       "    <tr>\n",
       "      <th>68777</th>\n",
       "      <td>131068</td>\n",
       "      <td>NaN</td>\n",
       "      <td>NaN</td>\n",
       "      <td>NaN</td>\n",
       "      <td>NaN</td>\n",
       "      <td>NaN</td>\n",
       "      <td>NaN</td>\n",
       "      <td>NaN</td>\n",
       "    </tr>\n",
       "    <tr>\n",
       "      <th>68778</th>\n",
       "      <td>131069</td>\n",
       "      <td>NaN</td>\n",
       "      <td>NaN</td>\n",
       "      <td>NaN</td>\n",
       "      <td>NaN</td>\n",
       "      <td>NaN</td>\n",
       "      <td>NaN</td>\n",
       "      <td>NaN</td>\n",
       "    </tr>\n",
       "  </tbody>\n",
       "</table>\n",
       "<p>68779 rows × 8 columns</p>\n",
       "</div>"
      ],
      "text/plain": [
       "       UserID  Dictator  Proposer  Responder  Investor  Banker  Public Goods  \\\n",
       "0      131074       NaN       NaN        NaN       NaN     NaN           NaN   \n",
       "1      131075       NaN       NaN        NaN       NaN     NaN           NaN   \n",
       "2      131078       NaN       NaN        NaN       NaN     NaN           NaN   \n",
       "3      131079       NaN       NaN        NaN       NaN     NaN           NaN   \n",
       "4      131080       NaN       NaN        NaN       NaN     NaN           NaN   \n",
       "...       ...       ...       ...        ...       ...     ...           ...   \n",
       "68774  131064       NaN       NaN        NaN       NaN     NaN           NaN   \n",
       "68775  262137       NaN       NaN        NaN       NaN     NaN           3.0   \n",
       "68776  393211       NaN       NaN        NaN       NaN     NaN           NaN   \n",
       "68777  131068       NaN       NaN        NaN       NaN     NaN           NaN   \n",
       "68778  131069       NaN       NaN        NaN       NaN     NaN           NaN   \n",
       "\n",
       "       Bomb  \n",
       "0       NaN  \n",
       "1       NaN  \n",
       "2       NaN  \n",
       "3       NaN  \n",
       "4       NaN  \n",
       "...     ...  \n",
       "68774   NaN  \n",
       "68775   NaN  \n",
       "68776  51.0  \n",
       "68777   NaN  \n",
       "68778   NaN  \n",
       "\n",
       "[68779 rows x 8 columns]"
      ]
     },
     "execution_count": 10,
     "metadata": {},
     "output_type": "execute_result"
    }
   ],
   "source": [
    "df_joint = pd.read_csv('data/MobLab/joint.csv')\n",
    "df_joint.rename(columns={\n",
    "    'dictator': 'Dictator',\n",
    "    'ultimatum_1': 'Proposer',\n",
    "    'ultimatum_2': 'Responder',\n",
    "    'trust_1': 'Investor',\n",
    "    'trust_3': 'Banker',\n",
    "    'bomb': 'Bomb',\n",
    "    'PG': 'Public Goods',\n",
    "}, inplace=True)\n",
    "df_joint"
   ]
  },
  {
   "cell_type": "markdown",
   "metadata": {},
   "source": [
    "## Evaluate Function"
   ]
  },
  {
   "cell_type": "code",
   "execution_count": 11,
   "metadata": {},
   "outputs": [],
   "source": [
    "def evaluate(\n",
    "    game2generated, \n",
    "    human_data=df_joint,\n",
    "    game2generated_cmp=None,\n",
    "    need_rescale=True,\n",
    "    need_plot=True,\n",
    "    smooth_bin_width=10,\n",
    "    noise_var=None,\n",
    "):\n",
    "    for game in game2generated.keys():\n",
    "        print(f\"Plotting {game}\")\n",
    "        generated = game2generated[game]\n",
    "        if noise_var is not None:\n",
    "            generated = np.random.normal(generated, noise_var)\n",
    "        if game2generated_cmp is not None:\n",
    "            target = game2generated_cmp[game]\n",
    "        else: \n",
    "            target = df_joint[game].dropna().values\n",
    "\n",
    "        w = wasserstein_distance(target, generated)\n",
    "        if need_rescale:\n",
    "            w = w * 100 / game2range[game][1]\n",
    "        r = ranksums(target, generated).pvalue\n",
    "        k = kstest(target, generated).pvalue\n",
    "        print(f'Wasserstein Distance (rescaled): {w:.2f}')\n",
    "        print(f'Ranksums p-value: {r:.2f}')\n",
    "        print(f'Kolmogorov-Smirnov p-value: {k:.2f}')\n",
    "\n",
    "        if need_plot: \n",
    "            plot_facet(\n",
    "                df_list=[\n",
    "                    choices_to_df(target, 'Target'),\n",
    "                    choices_to_df(generated, 'Generated'),\n",
    "                ],\n",
    "                x='choices',\n",
    "                hue='hue',\n",
    "                binrange=game2range[game],\n",
    "                palette=[blue, green],\n",
    "                # palette=[green, orange],\n",
    "                title=f'{game}',\n",
    "            )\n",
    "            # plt.savefig(f'plots/histogram-{game}.pdf', bbox_inches='tight')\n",
    "            plt.show()\n",
    "\n",
    "        bin_width = smooth_bin_width if not game == 'Public Goods' else 2\n",
    "        target = [int(bin_width * round(x/bin_width)) for x in target]\n",
    "        generated = [int(bin_width * round(x/bin_width)) for x in generated]\n",
    "        k = kstest(target, generated).pvalue\n",
    "        print(f'Smoothed Kolmogorov-Smirnov p-value: {k:.2f}')"
   ]
  },
  {
   "cell_type": "markdown",
   "metadata": {},
   "source": [
    "## Test"
   ]
  },
  {
   "cell_type": "markdown",
   "metadata": {},
   "source": [
    "### Upper Bound (Human Samples)"
   ]
  },
  {
   "cell_type": "code",
   "execution_count": 12,
   "metadata": {},
   "outputs": [
    {
     "name": "stdout",
     "output_type": "stream",
     "text": [
      "Game: Dictator\n",
      "Wasserstein Distance: 0.69 ± 0.32, 0.01\n",
      "Kolmogorov-Smirnov: 0.70 ± 0.28, 0.01\n",
      "Game: Proposer\n",
      "Wasserstein Distance: 0.72 ± 0.27, 0.01\n",
      "Kolmogorov-Smirnov: 0.78 ± 0.24, 0.01\n",
      "Game: Responder\n",
      "Wasserstein Distance: 0.70 ± 0.28, 0.01\n",
      "Kolmogorov-Smirnov: 0.76 ± 0.26, 0.01\n",
      "Game: Investor\n",
      "Wasserstein Distance: 1.11 ± 0.57, 0.02\n",
      "Kolmogorov-Smirnov: 0.63 ± 0.30, 0.01\n",
      "Game: Banker\n",
      "Wasserstein Distance: 0.85 ± 0.36, 0.01\n",
      "Kolmogorov-Smirnov: 0.98 ± 0.06, 0.00\n",
      "Game: Public Goods\n",
      "Wasserstein Distance: 0.21 ± 0.09, 0.00\n",
      "Kolmogorov-Smirnov: 0.70 ± 0.29, 0.01\n",
      "Game: Bomb\n",
      "Wasserstein Distance: 0.90 ± 0.36, 0.01\n",
      "Kolmogorov-Smirnov: 0.63 ± 0.30, 0.01\n"
     ]
    }
   ],
   "source": [
    "import scipy\n",
    "\n",
    "n_runs = 1000\n",
    "for game in game2inst:\n",
    "    # print(game)\n",
    "    target = df_joint[game].dropna()\n",
    "    ws = []\n",
    "    rs = []\n",
    "    ks = []\n",
    "    for i in range(n_runs):\n",
    "        sample = target.sample(n=1000, random_state=i)\n",
    "        ws.append(wasserstein_distance(target, sample))\n",
    "        rs.append(ranksums(target, sample).pvalue)\n",
    "        ks.append(kstest(target, sample).pvalue)\n",
    "    print(f'Game: {game}')\n",
    "    print(f'Wasserstein Distance: {np.mean(ws):.2f} ± {np.std(ws):.2f}, {scipy.stats.sem(ws):.2f}')\n",
    "    print(f'Kolmogorov-Smirnov: {np.mean(ks):.2f} ± {np.std(ks):.2f}, {scipy.stats.sem(ks):.2f}')\n",
    "    # print(f'Ranksums: {np.mean(rs):.2f} ± {np.std(rs):.2f}, {scipy.stats.sem(rs):.2f}')\n",
    "    # print(f'{np.mean(ws):.2f}\\t{np.std(ws):.2f}\\t{scipy.stats.sem(ws):.2f}\\t{np.mean(rs):.2f}\\t{np.std(rs):.2f}\\t{scipy.stats.sem(rs):.2f}\\t')\n",
    "    # print(f'{np.mean(ws):.2f}\\t{np.std(ws):.2f}\\t{scipy.stats.sem(ws):.2f}\\t{np.mean(rs):.2f}\\t{np.std(rs):.2f}\\t{scipy.stats.sem(rs):.2f}\\t{np.mean(ks):.2f}\\t{np.std(ks):.2f}\\t{scipy.stats.sem(ks):.2f}\\t')"
   ]
  },
  {
   "cell_type": "markdown",
   "metadata": {},
   "source": [
    "### Default System Prompt\n",
    "\n",
    "Skip the below cell if you want to examine the tested results (`records/default_system_prompt.json`). "
   ]
  },
  {
   "cell_type": "code",
   "execution_count": 13,
   "metadata": {},
   "outputs": [],
   "source": [
    "# game2generated = {}\n",
    "# game2records = {}\n",
    "# for game in game2inst.keys():\n",
    "#     print(f\"Playing {game}\")\n",
    "#     choices, completion = play(game=game, n_choices=100)\n",
    "#     game2generated[game] = choices\n",
    "#     game2records[game] = completion\n",
    "#     print(f\"Done playing {game}\")"
   ]
  },
  {
   "cell_type": "code",
   "execution_count": 14,
   "metadata": {},
   "outputs": [],
   "source": [
    "# json.dump([game2generated, game2records], open('records/default_system_prompt.json', 'w'))\n",
    "game2generated, game2records = json.load(open('records/default_system_prompt.json'))"
   ]
  },
  {
   "cell_type": "code",
   "execution_count": 15,
   "metadata": {},
   "outputs": [
    {
     "name": "stdout",
     "output_type": "stream",
     "text": [
      "Plotting Dictator\n",
      "Wasserstein Distance (rescaled): 25.58\n",
      "Ranksums p-value: 0.00\n",
      "Kolmogorov-Smirnov p-value: 0.00\n",
      "Smoothed Kolmogorov-Smirnov p-value: 0.00\n",
      "Plotting Proposer\n",
      "Wasserstein Distance (rescaled): 11.35\n",
      "Ranksums p-value: 0.00\n",
      "Kolmogorov-Smirnov p-value: 0.00\n",
      "Smoothed Kolmogorov-Smirnov p-value: 0.00\n",
      "Plotting Responder\n",
      "Wasserstein Distance (rescaled): 33.99\n",
      "Ranksums p-value: 0.00\n",
      "Kolmogorov-Smirnov p-value: 0.00\n",
      "Smoothed Kolmogorov-Smirnov p-value: 0.00\n",
      "Plotting Investor\n",
      "Wasserstein Distance (rescaled): 28.23\n",
      "Ranksums p-value: 0.00\n",
      "Kolmogorov-Smirnov p-value: 0.00\n",
      "Smoothed Kolmogorov-Smirnov p-value: 0.00\n",
      "Plotting Banker\n",
      "Wasserstein Distance (rescaled): 20.00\n",
      "Ranksums p-value: 0.00\n",
      "Kolmogorov-Smirnov p-value: 0.00\n",
      "Smoothed Kolmogorov-Smirnov p-value: 0.00\n",
      "Plotting Public Goods\n",
      "Wasserstein Distance (rescaled): 25.49\n",
      "Ranksums p-value: 0.12\n",
      "Kolmogorov-Smirnov p-value: 0.00\n",
      "Smoothed Kolmogorov-Smirnov p-value: 0.00\n",
      "Plotting Bomb\n",
      "Wasserstein Distance (rescaled): 16.62\n",
      "Ranksums p-value: 0.09\n",
      "Kolmogorov-Smirnov p-value: 0.00\n",
      "Smoothed Kolmogorov-Smirnov p-value: 0.00\n"
     ]
    }
   ],
   "source": [
    "evaluate(game2generated, need_plot=False)"
   ]
  },
  {
   "cell_type": "markdown",
   "metadata": {},
   "source": [
    "### Batch Test"
   ]
  },
  {
   "cell_type": "code",
   "execution_count": 16,
   "metadata": {},
   "outputs": [],
   "source": [
    "def batch_item(\n",
    "    id=None,\n",
    "    messages=[],\n",
    "    model=\"gpt-4o-2024-05-13\",\n",
    "):\n",
    "    if id is None:\n",
    "        id = uuid.uuid4()\n",
    "    return {\n",
    "        \"custom_id\": id,\n",
    "        \"method\": \"POST\", \n",
    "        \"url\": \"/v1/chat/completions\",\n",
    "        \"body\": {\n",
    "            \"model\": model,\n",
    "            \"messages\": messages,\n",
    "        }\n",
    "    }"
   ]
  },
  {
   "cell_type": "code",
   "execution_count": 17,
   "metadata": {},
   "outputs": [],
   "source": [
    "def batch_test(\n",
    "    batch_id,\n",
    "    model_file,\n",
    "    test_game,\n",
    "    n_samples=1000,\n",
    "):\n",
    "    model_name = '_'.join(model_file.split('_')[1:]).split('.')[0]\n",
    "    df = pd.read_csv(model_file)\n",
    "    weights = df['weight'] / df['weight'].sum()\n",
    "    weights = weights.values\n",
    "    pool_prompts = df['prompt'].values\n",
    "    system_prompts = np.random.choice(\n",
    "        pool_prompts, \n",
    "        size=n_samples, \n",
    "        replace=True, \n",
    "        p=weights\n",
    "    ).tolist()\n",
    "\n",
    "    batch = []\n",
    "    for i, system_prompt in enumerate(system_prompts):\n",
    "        batch.append(batch_item(\n",
    "            id=f'{batch_id}_{model_name}_{test_game}_{i}',\n",
    "            messages=[\n",
    "                {\"role\": \"system\", \"content\": system_prompt},\n",
    "                {\"role\": \"user\", \"content\": game2inst[test_game]}\n",
    "            ],\n",
    "            model=\"gpt-4o-2024-05-13\",\n",
    "        ))\n",
    "    return batch"
   ]
  },
  {
   "cell_type": "code",
   "execution_count": 18,
   "metadata": {},
   "outputs": [],
   "source": [
    "model_files = {\n",
    "    'Dictator': 'records/system_prompts_Dictator_weights_20241119171506.csv',\n",
    "    'Proposer': 'records/system_prompts_Proposer_weights_20241119171514.csv',\n",
    "    'Responder': 'records/system_prompts_Responder_weights_20241119171519.csv',\n",
    "    'Investor': 'records/system_prompts_Investor_weights_20241119171538.csv',\n",
    "    'Banker': 'records/system_prompts_Banker_weights_20241119171541.csv',\n",
    "    'Public Goods': 'records/system_prompts_Public Goods_weights_20241119171548.csv',\n",
    "    'Bomb': 'records/system_prompts_Bomb_weights_20241119171614.csv',\n",
    "}"
   ]
  },
  {
   "cell_type": "markdown",
   "metadata": {},
   "source": [
    "#### Single Test"
   ]
  },
  {
   "cell_type": "code",
   "execution_count": 19,
   "metadata": {},
   "outputs": [
    {
     "data": {
      "text/plain": [
       "7000"
      ]
     },
     "execution_count": 19,
     "metadata": {},
     "output_type": "execute_result"
    }
   ],
   "source": [
    "batch = []\n",
    "batch_id = pd.Timestamp.now().strftime('%Y%m%d%H%M%S')\n",
    "for game, model_file in model_files.items():\n",
    "    # if game in ['Dictator', 'Banker', 'Bomb']: continue\n",
    "    batch.extend(batch_test(\n",
    "        batch_id=batch_id,\n",
    "        model_file=model_file,\n",
    "        test_game=game,\n",
    "        n_samples=1000,\n",
    "    ))\n",
    "    # break\n",
    "len(batch)"
   ]
  },
  {
   "cell_type": "markdown",
   "metadata": {},
   "source": [
    "#### Transfer Test"
   ]
  },
  {
   "cell_type": "code",
   "execution_count": 20,
   "metadata": {},
   "outputs": [
    {
     "data": {
      "text/plain": [
       "42000"
      ]
     },
     "execution_count": 20,
     "metadata": {},
     "output_type": "execute_result"
    }
   ],
   "source": [
    "batch = []\n",
    "batch_id = pd.Timestamp.now().strftime('%Y%m%d%H%M%S')\n",
    "for model, model_file in model_files.items():\n",
    "    for test_game in model_files.keys():\n",
    "        if model == test_game: continue\n",
    "        batch.extend(batch_test(\n",
    "            batch_id=batch_id,\n",
    "            model_file=model_file,\n",
    "            test_game=test_game,\n",
    "            n_samples=1000,\n",
    "        ))\n",
    "len(batch)"
   ]
  },
  {
   "cell_type": "code",
   "execution_count": 21,
   "metadata": {},
   "outputs": [],
   "source": [
    "# file_name = f'batch_test_{batch_id}.jsonl'\n",
    "# with open(f'records/{file_name}', 'w') as f:\n",
    "#     for item in batch:\n",
    "#         f.write(json.dumps(item) + '\\n')"
   ]
  },
  {
   "cell_type": "markdown",
   "metadata": {},
   "source": [
    "#### Extract Choices"
   ]
  },
  {
   "cell_type": "code",
   "execution_count": 22,
   "metadata": {},
   "outputs": [],
   "source": [
    "# Single Test\n",
    "batch_input_file = 'records/batch_test_20241120183939.jsonl'\n",
    "batch_output_file = 'records/batch_673e735ab27c81908c6cadef063ba789_output.jsonl'\n",
    "\n",
    "# Transfer Test \n",
    "# batch_input_file = 'records/batch_test_20250612040751.jsonl'\n",
    "# batch_output_file = 'records/batch_684a8b8559888190aefc348b9933ead5_output.jsonl'\n",
    "\n",
    "batch = []\n",
    "batch_input = [json.loads(line) for line in open(batch_input_file)]\n",
    "batch_output = [json.loads(line) for line in open(batch_output_file)]\n",
    "assert len(batch_input) == len(batch_output)\n",
    "for input, output in zip(batch_input, batch_output):\n",
    "    id = input['custom_id']\n",
    "    input_messages = input['body']['messages']\n",
    "    output_message = output['response']['body']['choices'][0]['message']['content']\n",
    "    messages = [\n",
    "        {\"role\": \"system\", \"content\": \"You are a helpful assistant who helps extract the choice in a conversation. With a conversation between a user and a chatbot provided, please extract the chatbot's choice regarding the user's question. \"},\n",
    "        *input_messages[1:],\n",
    "        {\"role\": \"assistant\", \"content\": output_message},\n",
    "        {\"role\": \"user\", \"content\": \"Please output one single integer number that stands for the choice without anything else:\"}\n",
    "    ]\n",
    "    batch.append(batch_item(\n",
    "        id=f'extract_{batch_output_file}_{id}',\n",
    "        messages=messages,\n",
    "        model='gpt-4o-mini-2024-07-18',\n",
    "    ))\n",
    "\n",
    "# file_name = f\"batch_extract_{batch_input_file.split('/')[-1]}_{batch_output_file.split('/')[-1]}.jsonl\"\n",
    "# with open(f'records/{file_name}', 'w') as f:\n",
    "#     for item in batch:\n",
    "#         f.write(json.dumps(item) + '\\n')"
   ]
  },
  {
   "cell_type": "code",
   "execution_count": 25,
   "metadata": {},
   "outputs": [],
   "source": [
    "model2generated = defaultdict(lambda: defaultdict(list))\n",
    "\n",
    "# Single Test\n",
    "file_name = 'records/batch_673e3d90e9d88190844d9f639808689e_output.jsonl' \n",
    "\n",
    "# Transfer Test \n",
    "# file_name = 'records/batch_684b9c0211cc819092c63df98e799063_output.jsonl'\n",
    "\n",
    "for line in open(file_name):\n",
    "    item = json.loads(line)\n",
    "    id = item['custom_id']\n",
    "    game = id.split('_')[-2]\n",
    "    model_name = '_'.join(id.split('.jsonl_')[-1].split('_')[1:-2])\n",
    "\n",
    "    completion = item['response']['body']['choices'][0]\n",
    "    choice = completion['message']['content']\n",
    "    choice = ''.join(filter(str.isdigit, choice))\n",
    "    choice = int(choice)\n",
    "    model2generated[model_name][game].append(choice)"
   ]
  },
  {
   "cell_type": "markdown",
   "metadata": {},
   "source": [
    "#### Evaluate"
   ]
  },
  {
   "cell_type": "code",
   "execution_count": 26,
   "metadata": {},
   "outputs": [
    {
     "name": "stdout",
     "output_type": "stream",
     "text": [
      "68779\n",
      "======= Evaluating model prompts_Dictator_weights_20241119171506...\n",
      "Plotting Dictator\n",
      "Wasserstein Distance (rescaled): 0.74\n",
      "Ranksums p-value: 0.79\n",
      "Kolmogorov-Smirnov p-value: 0.06\n"
     ]
    },
    {
     "data": {
      "image/png": "[encoded data removed]",
      "text/plain": [
       "<Figure size 400x400 with 2 Axes>"
      ]
     },
     "metadata": {},
     "output_type": "display_data"
    },
    {
     "name": "stdout",
     "output_type": "stream",
     "text": [
      "Smoothed Kolmogorov-Smirnov p-value: 0.78\n",
      "======= Evaluating model prompts_Proposer_weights_20241119171514...\n",
      "Plotting Proposer\n",
      "Wasserstein Distance (rescaled): 0.92\n",
      "Ranksums p-value: 0.49\n",
      "Kolmogorov-Smirnov p-value: 0.14\n"
     ]
    },
    {
     "data": {
      "image/png": "[encoded data removed]",
      "text/plain": [
       "<Figure size 400x400 with 2 Axes>"
      ]
     },
     "metadata": {},
     "output_type": "display_data"
    },
    {
     "name": "stdout",
     "output_type": "stream",
     "text": [
      "Smoothed Kolmogorov-Smirnov p-value: 0.30\n",
      "======= Evaluating model prompts_Responder_weights_20241119171519...\n",
      "Plotting Responder\n",
      "Wasserstein Distance (rescaled): 1.11\n",
      "Ranksums p-value: 0.20\n",
      "Kolmogorov-Smirnov p-value: 0.00\n"
     ]
    },
    {
     "data": {
      "image/png": "[encoded data removed]",
      "text/plain": [
       "<Figure size 400x400 with 2 Axes>"
      ]
     },
     "metadata": {},
     "output_type": "display_data"
    },
    {
     "name": "stdout",
     "output_type": "stream",
     "text": [
      "Smoothed Kolmogorov-Smirnov p-value: 0.35\n",
      "======= Evaluating model prompts_Investor_weights_20241119171538...\n",
      "Plotting Investor\n",
      "Wasserstein Distance (rescaled): 2.30\n",
      "Ranksums p-value: 0.71\n",
      "Kolmogorov-Smirnov p-value: 0.01\n"
     ]
    },
    {
     "data": {
      "image/png": "[encoded data removed]",
      "text/plain": [
       "<Figure size 400x400 with 2 Axes>"
      ]
     },
     "metadata": {},
     "output_type": "display_data"
    },
    {
     "name": "stdout",
     "output_type": "stream",
     "text": [
      "Smoothed Kolmogorov-Smirnov p-value: 0.03\n",
      "======= Evaluating model prompts_Banker_weights_20241119171541...\n",
      "Plotting Banker\n",
      "Wasserstein Distance (rescaled): 1.52\n",
      "Ranksums p-value: 0.26\n",
      "Kolmogorov-Smirnov p-value: 0.02\n"
     ]
    },
    {
     "data": {
      "image/png": "[encoded data removed]",
      "text/plain": [
       "<Figure size 400x400 with 2 Axes>"
      ]
     },
     "metadata": {},
     "output_type": "display_data"
    },
    {
     "name": "stdout",
     "output_type": "stream",
     "text": [
      "Smoothed Kolmogorov-Smirnov p-value: 0.15\n",
      "======= Evaluating model prompts_Public Goods_weights_20241119171548...\n",
      "Plotting Public Goods\n",
      "Wasserstein Distance (rescaled): 2.27\n",
      "Ranksums p-value: 0.05\n",
      "Kolmogorov-Smirnov p-value: 0.04\n"
     ]
    },
    {
     "data": {
      "image/png": "[encoded data removed]",
      "text/plain": [
       "<Figure size 400x400 with 2 Axes>"
      ]
     },
     "metadata": {},
     "output_type": "display_data"
    },
    {
     "name": "stdout",
     "output_type": "stream",
     "text": [
      "Smoothed Kolmogorov-Smirnov p-value: 0.07\n",
      "======= Evaluating model prompts_Bomb_weights_20241119171614...\n",
      "Plotting Bomb\n",
      "Wasserstein Distance (rescaled): 4.78\n",
      "Ranksums p-value: 0.01\n",
      "Kolmogorov-Smirnov p-value: 0.00\n"
     ]
    },
    {
     "data": {
      "image/png": "[encoded data removed]",
      "text/plain": [
       "<Figure size 400x400 with 2 Axes>"
      ]
     },
     "metadata": {},
     "output_type": "display_data"
    },
    {
     "name": "stdout",
     "output_type": "stream",
     "text": [
      "Smoothed Kolmogorov-Smirnov p-value: 0.00\n"
     ]
    }
   ],
   "source": [
    "print(len(df_joint))\n",
    "for model, game2generated in model2generated.items():\n",
    "    print(f'======= Evaluating model {model}...')\n",
    "    evaluate(\n",
    "        game2generated, \n",
    "        need_plot=True, \n",
    "        smooth_bin_width=10,\n",
    "    )"
   ]
  }
 ],
 "metadata": {
  "kernelspec": {
   "display_name": "llm-decipher",
   "language": "python",
   "name": "python3"
  },
  "language_info": {
   "codemirror_mode": {
    "name": "ipython",
    "version": 3
   },
   "file_extension": ".py",
   "mimetype": "text/x-python",
   "name": "python",
   "nbconvert_exporter": "python",
   "pygments_lexer": "ipython3",
   "version": "3.13.4"
  }
 },
 "nbformat": 4,
 "nbformat_minor": 2
}
