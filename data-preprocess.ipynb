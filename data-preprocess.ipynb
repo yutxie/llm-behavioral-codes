{
 "cells": [
  {
   "cell_type": "markdown",
   "metadata": {},
   "source": [
    "This notebook preprocesses the MobLab dataset. The processed data is saved in the `data/MobLab/joint.csv` file, where the rows are players and the columns are games. Only the first-round records are kept. "
   ]
  },
  {
   "cell_type": "code",
   "execution_count": 1,
   "metadata": {},
   "outputs": [],
   "source": [
    "import pandas as pd\n",
    "from collections import defaultdict"
   ]
  },
  {
   "cell_type": "code",
   "execution_count": 2,
   "metadata": {},
   "outputs": [
    {
     "data": {
      "text/html": [
       "<div>\n",
       "<style scoped>\n",
       "    .dataframe tbody tr th:only-of-type {\n",
       "        vertical-align: middle;\n",
       "    }\n",
       "\n",
       "    .dataframe tbody tr th {\n",
       "        vertical-align: top;\n",
       "    }\n",
       "\n",
       "    .dataframe thead th {\n",
       "        text-align: right;\n",
       "    }\n",
       "</style>\n",
       "<table border=\"1\" class=\"dataframe\">\n",
       "  <thead>\n",
       "    <tr style=\"text-align: right;\">\n",
       "      <th></th>\n",
       "      <th>UserID</th>\n",
       "      <th>dictator</th>\n",
       "      <th>ultimatum_1</th>\n",
       "      <th>ultimatum_2</th>\n",
       "      <th>trust_1</th>\n",
       "      <th>trust_3</th>\n",
       "      <th>PG</th>\n",
       "      <th>bomb</th>\n",
       "    </tr>\n",
       "  </thead>\n",
       "  <tbody>\n",
       "    <tr>\n",
       "      <th>0</th>\n",
       "      <td>131074</td>\n",
       "      <td>NaN</td>\n",
       "      <td>NaN</td>\n",
       "      <td>NaN</td>\n",
       "      <td>NaN</td>\n",
       "      <td>NaN</td>\n",
       "      <td>NaN</td>\n",
       "      <td>NaN</td>\n",
       "    </tr>\n",
       "    <tr>\n",
       "      <th>1</th>\n",
       "      <td>131075</td>\n",
       "      <td>NaN</td>\n",
       "      <td>NaN</td>\n",
       "      <td>NaN</td>\n",
       "      <td>NaN</td>\n",
       "      <td>NaN</td>\n",
       "      <td>NaN</td>\n",
       "      <td>NaN</td>\n",
       "    </tr>\n",
       "    <tr>\n",
       "      <th>2</th>\n",
       "      <td>131078</td>\n",
       "      <td>NaN</td>\n",
       "      <td>NaN</td>\n",
       "      <td>NaN</td>\n",
       "      <td>NaN</td>\n",
       "      <td>NaN</td>\n",
       "      <td>NaN</td>\n",
       "      <td>NaN</td>\n",
       "    </tr>\n",
       "    <tr>\n",
       "      <th>3</th>\n",
       "      <td>131079</td>\n",
       "      <td>NaN</td>\n",
       "      <td>NaN</td>\n",
       "      <td>NaN</td>\n",
       "      <td>NaN</td>\n",
       "      <td>NaN</td>\n",
       "      <td>NaN</td>\n",
       "      <td>NaN</td>\n",
       "    </tr>\n",
       "    <tr>\n",
       "      <th>4</th>\n",
       "      <td>131080</td>\n",
       "      <td>NaN</td>\n",
       "      <td>NaN</td>\n",
       "      <td>NaN</td>\n",
       "      <td>NaN</td>\n",
       "      <td>NaN</td>\n",
       "      <td>NaN</td>\n",
       "      <td>NaN</td>\n",
       "    </tr>\n",
       "    <tr>\n",
       "      <th>...</th>\n",
       "      <td>...</td>\n",
       "      <td>...</td>\n",
       "      <td>...</td>\n",
       "      <td>...</td>\n",
       "      <td>...</td>\n",
       "      <td>...</td>\n",
       "      <td>...</td>\n",
       "      <td>...</td>\n",
       "    </tr>\n",
       "    <tr>\n",
       "      <th>68774</th>\n",
       "      <td>131064</td>\n",
       "      <td>NaN</td>\n",
       "      <td>NaN</td>\n",
       "      <td>NaN</td>\n",
       "      <td>NaN</td>\n",
       "      <td>NaN</td>\n",
       "      <td>NaN</td>\n",
       "      <td>NaN</td>\n",
       "    </tr>\n",
       "    <tr>\n",
       "      <th>68775</th>\n",
       "      <td>262137</td>\n",
       "      <td>NaN</td>\n",
       "      <td>NaN</td>\n",
       "      <td>NaN</td>\n",
       "      <td>NaN</td>\n",
       "      <td>NaN</td>\n",
       "      <td>3.0</td>\n",
       "      <td>NaN</td>\n",
       "    </tr>\n",
       "    <tr>\n",
       "      <th>68776</th>\n",
       "      <td>393211</td>\n",
       "      <td>NaN</td>\n",
       "      <td>NaN</td>\n",
       "      <td>NaN</td>\n",
       "      <td>NaN</td>\n",
       "      <td>NaN</td>\n",
       "      <td>NaN</td>\n",
       "      <td>51.0</td>\n",
       "    </tr>\n",
       "    <tr>\n",
       "      <th>68777</th>\n",
       "      <td>131068</td>\n",
       "      <td>NaN</td>\n",
       "      <td>NaN</td>\n",
       "      <td>NaN</td>\n",
       "      <td>NaN</td>\n",
       "      <td>NaN</td>\n",
       "      <td>NaN</td>\n",
       "      <td>NaN</td>\n",
       "    </tr>\n",
       "    <tr>\n",
       "      <th>68778</th>\n",
       "      <td>131069</td>\n",
       "      <td>NaN</td>\n",
       "      <td>NaN</td>\n",
       "      <td>NaN</td>\n",
       "      <td>NaN</td>\n",
       "      <td>NaN</td>\n",
       "      <td>NaN</td>\n",
       "      <td>NaN</td>\n",
       "    </tr>\n",
       "  </tbody>\n",
       "</table>\n",
       "<p>68779 rows × 8 columns</p>\n",
       "</div>"
      ],
      "text/plain": [
       "       UserID  dictator  ultimatum_1  ultimatum_2  trust_1  trust_3   PG  bomb\n",
       "0      131074       NaN          NaN          NaN      NaN      NaN  NaN   NaN\n",
       "1      131075       NaN          NaN          NaN      NaN      NaN  NaN   NaN\n",
       "2      131078       NaN          NaN          NaN      NaN      NaN  NaN   NaN\n",
       "3      131079       NaN          NaN          NaN      NaN      NaN  NaN   NaN\n",
       "4      131080       NaN          NaN          NaN      NaN      NaN  NaN   NaN\n",
       "...       ...       ...          ...          ...      ...      ...  ...   ...\n",
       "68774  131064       NaN          NaN          NaN      NaN      NaN  NaN   NaN\n",
       "68775  262137       NaN          NaN          NaN      NaN      NaN  3.0   NaN\n",
       "68776  393211       NaN          NaN          NaN      NaN      NaN  NaN  51.0\n",
       "68777  131068       NaN          NaN          NaN      NaN      NaN  NaN   NaN\n",
       "68778  131069       NaN          NaN          NaN      NaN      NaN  NaN   NaN\n",
       "\n",
       "[68779 rows x 8 columns]"
      ]
     },
     "execution_count": 2,
     "metadata": {},
     "output_type": "execute_result"
    }
   ],
   "source": [
    "df_joint = pd.read_csv('data/MobLab/joint.csv')\n",
    "df_joint"
   ]
  },
  {
   "cell_type": "code",
   "execution_count": 3,
   "metadata": {},
   "outputs": [
    {
     "name": "stdout",
     "output_type": "stream",
     "text": [
      "82057\n"
     ]
    }
   ],
   "source": [
    "# number of non-NaN entries excluding the UserID column\n",
    "print(df_joint.notnull().sum().sum() - len(df_joint))"
   ]
  },
  {
   "cell_type": "markdown",
   "metadata": {},
   "source": [
    "## Users"
   ]
  },
  {
   "cell_type": "code",
   "execution_count": null,
   "metadata": {},
   "outputs": [],
   "source": [
    "users = []\n",
    "\n",
    "files = [\n",
    "    'data/MobLab/dictator.csv',\n",
    "    'data/MobLab/ultimatum_strategy.csv',\n",
    "    'data/MobLab/trust_investment.csv',\n",
    "    'data/MobLab/public_goods_linear_water.csv',\n",
    "    'data/MobLab/bomb_risk.csv',\n",
    "]\n",
    "\n",
    "for file in files:\n",
    "    df = pd.read_csv(file)\n",
    "    users.extend(df['UserID'].unique())\n",
    "\n",
    "df_joint = pd.DataFrame(columns=['UserID', 'dictator', 'ultimatum_1', 'ultimatum_2', 'trust_1', 'trust_3', 'PG', 'bomb'])\n",
    "df_joint['UserID'] = list(set(users))\n",
    "df_joint"
   ]
  },
  {
   "cell_type": "markdown",
   "metadata": {},
   "source": [
    "## Games\n",
    "### Dictator"
   ]
  },
  {
   "cell_type": "code",
   "execution_count": null,
   "metadata": {},
   "outputs": [],
   "source": [
    "df = pd.read_csv('data/MobLab/dictator.csv')\n",
    "df = df[df['gameType'] == 'dictator']\n",
    "df = df[df['Role'] == 'first']\n",
    "df = df[df['Round'] == 1]\n",
    "df = df[df['Total'] == 100]\n",
    "df = df[df['move'] != 'None']\n",
    "\n",
    "binrange = (0, 100)\n",
    "df['move'] = df['move'].astype(float)\n",
    "df['move'] = df['move'].apply(lambda x: x if binrange[0] <= x <= binrange[1] else None)\n",
    "df = df.dropna(subset=['move'])\n",
    "\n",
    "for user in df['UserID'].unique():\n",
    "    move = df[df['UserID'] == user]['move'].values[0]\n",
    "    df_joint.loc[df_joint['UserID'] == user, 'dictator'] = move\n",
    "df_joint"
   ]
  },
  {
   "cell_type": "markdown",
   "metadata": {},
   "source": [
    "### Ultimatum"
   ]
  },
  {
   "cell_type": "code",
   "execution_count": null,
   "metadata": {},
   "outputs": [],
   "source": [
    "df = pd.read_csv('data/Moblab/ultimatum_strategy.csv')\n",
    "df = df[df['gameType'] == 'ultimatum_strategy']\n",
    "df = df[df['Role'] == 'player']\n",
    "df = df[df['Round'] == 1]\n",
    "df = df[df['Total'] == 100]\n",
    "df = df[df['move'] != 'None']\n",
    "df['propose'] = df['move'].apply(lambda x: eval(x)[0])\n",
    "df['accept'] = df['move'].apply(lambda x: eval(x)[1])\n",
    "df = df[(df['propose'] >= 0) & (df['propose'] <= 100)]\n",
    "df = df[(df['accept'] >= 0) & (df['accept'] <= 100)]\n",
    "# df.head()\n",
    "\n",
    "for user in df['UserID'].unique():\n",
    "    propose = df[df['UserID'] == user]['propose'].values[0]\n",
    "    accept = df[df['UserID'] == user]['accept'].values[0]\n",
    "    df_joint.loc[df_joint['UserID'] == user, 'ultimatum_1'] = propose\n",
    "    df_joint.loc[df_joint['UserID'] == user, 'ultimatum_2'] = accept\n",
    "df_joint"
   ]
  },
  {
   "cell_type": "markdown",
   "metadata": {},
   "source": [
    "### Trust"
   ]
  },
  {
   "cell_type": "code",
   "execution_count": null,
   "metadata": {},
   "outputs": [],
   "source": [
    "df = pd.read_csv('data/MobLab/trust_investment.csv')\n",
    "df = df[df['gameType'] == 'trust_investment']\n",
    "df = df[df['Round'] == 1]\n",
    "df = df[df['move'] != 'None']\n",
    "\n",
    "binrange = (0, 100)\n",
    "df['move'] = df['move'].astype(float)\n",
    "\n",
    "# for Role == first, drop rows with move out of the binrange\n",
    "df1 = df[df['Role'] == 'first']\n",
    "df1['move'] = df1['move'].apply(lambda x: x if binrange[0] <= x <= binrange[1] else None)\n",
    "df1 = df1.dropna(subset=['move'])\n",
    "\n",
    "df2 = df[df['Role'] == 'second']\n",
    "df2['inv'] = df2['roundResult'].apply(lambda x: eval(x)[0])\n",
    "df2['ret'] = df2['roundResult'].apply(lambda x: eval(x)[1])\n",
    "df2 = df2[(df2['ret'] >= 0) & (df2['ret'] <= df2['inv'] * 3)]\n",
    "df2['move'] = df2['ret']\n",
    "\n",
    "for user in df1['UserID'].unique():\n",
    "    move = df1[df1['UserID'] == user]['move'].values[0]\n",
    "    df_joint.loc[df_joint['UserID'] == user, 'trust_1'] = move\n",
    "for user in df2['UserID'].unique():\n",
    "    move = df2[(df2['inv'] == 50) & (df2['UserID'] == user)]['move'].values\n",
    "    if len(move) == 0:\n",
    "        continue\n",
    "    df_joint.loc[df_joint['UserID'] == user, 'trust_3'] = move[0]\n",
    "df_joint"
   ]
  },
  {
   "cell_type": "markdown",
   "metadata": {},
   "source": [
    "### Public Goods"
   ]
  },
  {
   "cell_type": "code",
   "execution_count": null,
   "metadata": {},
   "outputs": [],
   "source": [
    "df = pd.read_csv('data/MobLab/public_goods_linear_water.csv')\n",
    "df = df[df['Role'] == 'contributor']\n",
    "df = df[df['Round'] == 3]\n",
    "df = df[df['Total'] == 20]\n",
    "df = df[df['groupSize'] == 4]\n",
    "df = df[df['move'] != None]\n",
    "df = df[(df['move'] >= 0) & (df['move'] <= 20)]\n",
    "df = df[df['gameType'] == 'public_goods_linear_water']\n",
    "\n",
    "for user in df['UserID'].unique():\n",
    "    move = df[df['UserID'] == user]['move'].values[0]\n",
    "    df_joint.loc[df_joint['UserID'] == user, 'PG'] = move\n",
    "df_joint"
   ]
  },
  {
   "cell_type": "markdown",
   "metadata": {},
   "source": [
    "### Bomb Risk"
   ]
  },
  {
   "cell_type": "code",
   "execution_count": null,
   "metadata": {},
   "outputs": [],
   "source": [
    "df = pd.read_csv('data/MobLab/bomb_risk.csv')\n",
    "df = df[df['Role'] == 'player']\n",
    "df = df[df['gameType'] == 'bomb_risk']\n",
    "df.sort_values(by=['UserID', 'Round'])\n",
    "\n",
    "prefix_to_choices_human = defaultdict(list)\n",
    "prefix_to_IPW = defaultdict(list)\n",
    "prev_user = None\n",
    "prev_move = None\n",
    "prefix = ''\n",
    "bad_user = False\n",
    "for _, row in df.iterrows():\n",
    "    if bad_user: continue\n",
    "    if row['UserID'] != prev_user:\n",
    "        prev_user = row['UserID']\n",
    "        prefix = ''\n",
    "        bad_user = False\n",
    "\n",
    "    move = row['move']\n",
    "    if move < 0 or move > 100:\n",
    "        bad_users = True\n",
    "        continue\n",
    "    prefix_to_choices_human[prefix].append(move)\n",
    "\n",
    "    if len(prefix) == 0:\n",
    "        prefix_to_IPW[prefix].append(1)\n",
    "        df_joint.loc[df_joint['UserID'] == prev_user, 'bomb'] = move\n",
    "    elif prefix[-1] == '1':\n",
    "        prev_move = min(prev_move, 98)\n",
    "        prefix_to_IPW[prefix].append(1./(100 - prev_move))\n",
    "    elif prefix[-1] == '0':\n",
    "        prev_move = max(prev_move, 1)\n",
    "        prefix_to_IPW[prefix].append(1./(prev_move))\n",
    "    else: assert False\n",
    "    \n",
    "    prev_move = move\n",
    "\n",
    "    prefix += '1' if row['roundResult'] == 'SAFE' else '0'"
   ]
  },
  {
   "cell_type": "markdown",
   "metadata": {},
   "source": [
    "## Export"
   ]
  },
  {
   "cell_type": "code",
   "execution_count": null,
   "metadata": {},
   "outputs": [],
   "source": [
    "# df_joint.to_csv('data/MobLab/joint.csv', index=False)"
   ]
  }
 ],
 "metadata": {
  "kernelspec": {
   "display_name": "llm-decipher",
   "language": "python",
   "name": "python3"
  },
  "language_info": {
   "codemirror_mode": {
    "name": "ipython",
    "version": 3
   },
   "file_extension": ".py",
   "mimetype": "text/x-python",
   "name": "python",
   "nbconvert_exporter": "python",
   "pygments_lexer": "ipython3",
   "version": "3.13.4"
  }
 },
 "nbformat": 4,
 "nbformat_minor": 2
}
